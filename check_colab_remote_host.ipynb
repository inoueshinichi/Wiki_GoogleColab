{
  "nbformat": 4,
  "nbformat_minor": 0,
  "metadata": {
    "colab": {
      "provenance": [],
      "authorship_tag": "ABX9TyOVpsqdNwk2GKF7TO9WFb4M",
      "include_colab_link": true
    },
    "kernelspec": {
      "name": "python3",
      "display_name": "Python 3"
    },
    "language_info": {
      "name": "python"
    }
  },
  "cells": [
    {
      "cell_type": "markdown",
      "metadata": {
        "id": "view-in-github",
        "colab_type": "text"
      },
      "source": [
        "<a href=\"https://colab.research.google.com/github/inoueshinichi/Wiki_GoogleColab/blob/main/check_colab_remote_host.ipynb\" target=\"_parent\"><img src=\"https://colab.research.google.com/assets/colab-badge.svg\" alt=\"Open In Colab\"/></a>"
      ]
    },
    {
      "cell_type": "markdown",
      "source": [
        "## GoogleDriveのマウント"
      ],
      "metadata": {
        "id": "P8u07NIRaQjo"
      }
    },
    {
      "cell_type": "code",
      "source": [
        "# Googleドライブをマウント\n",
        "from google.colab import drive\n",
        "drive.mount('/content/drive')"
      ],
      "metadata": {
        "colab": {
          "base_uri": "https://localhost:8080/"
        },
        "id": "li--BnzGaTmr",
        "outputId": "e326b6cd-0ca9-4367-cd82-e03baf77e761"
      },
      "execution_count": null,
      "outputs": [
        {
          "output_type": "stream",
          "name": "stdout",
          "text": [
            "Mounted at /content/drive\n"
          ]
        }
      ]
    },
    {
      "cell_type": "markdown",
      "source": [
        "## CPU情報"
      ],
      "metadata": {
        "id": "LA8yVLjwfzHW"
      }
    },
    {
      "cell_type": "code",
      "source": [
        "# 物理CPUの数\n",
        "!grep physical.id /proc/cpuinfo | sort -u | wc -l"
      ],
      "metadata": {
        "colab": {
          "base_uri": "https://localhost:8080/"
        },
        "id": "1JxP11Gvf1cJ",
        "outputId": "317bc157-0fe2-41b8-c525-f90675007b3e"
      },
      "execution_count": null,
      "outputs": [
        {
          "output_type": "stream",
          "name": "stdout",
          "text": [
            "1\n"
          ]
        }
      ]
    },
    {
      "cell_type": "code",
      "source": [
        "# CPU内のコア数\n",
        "!grep cpu.cores /proc/cpuinfo | sort -u"
      ],
      "metadata": {
        "colab": {
          "base_uri": "https://localhost:8080/"
        },
        "id": "JY_M5B-2gBrU",
        "outputId": "3f1fe78a-561f-4a0f-a905-78c1435d9737"
      },
      "execution_count": null,
      "outputs": [
        {
          "output_type": "stream",
          "name": "stdout",
          "text": [
            "cpu cores\t: 1\n"
          ]
        }
      ]
    },
    {
      "cell_type": "code",
      "source": [
        "# 論理プロセッサの数\n",
        "!grep processor /proc/cpuinfo | wc -l"
      ],
      "metadata": {
        "colab": {
          "base_uri": "https://localhost:8080/"
        },
        "id": "VCrg7el2gJBb",
        "outputId": "2e2536f9-d6a3-4fa7-a307-8ff276ecc8b7"
      },
      "execution_count": null,
      "outputs": [
        {
          "output_type": "stream",
          "name": "stdout",
          "text": [
            "2\n"
          ]
        }
      ]
    },
    {
      "cell_type": "markdown",
      "source": [
        "## OS情報"
      ],
      "metadata": {
        "id": "3hhvrBm1-Sy5"
      }
    },
    {
      "cell_type": "code",
      "source": [
        "!uname -a"
      ],
      "metadata": {
        "colab": {
          "base_uri": "https://localhost:8080/"
        },
        "id": "jhPUt2p_-Vek",
        "outputId": "af766edf-e4c5-467d-e623-2388bd9edc39"
      },
      "execution_count": null,
      "outputs": [
        {
          "output_type": "stream",
          "name": "stdout",
          "text": [
            "Linux 15876b1c2471 5.15.120+ #1 SMP Wed Aug 30 11:19:59 UTC 2023 x86_64 x86_64 x86_64 GNU/Linux\n"
          ]
        }
      ]
    },
    {
      "cell_type": "code",
      "source": [
        "!lsb_release -a"
      ],
      "metadata": {
        "colab": {
          "base_uri": "https://localhost:8080/"
        },
        "id": "ct5qRc0rUoZ-",
        "outputId": "b13c9841-d042-462d-e828-6e053e9909fe"
      },
      "execution_count": null,
      "outputs": [
        {
          "output_type": "stream",
          "name": "stdout",
          "text": [
            "No LSB modules are available.\n",
            "Distributor ID:\tUbuntu\n",
            "Description:\tUbuntu 22.04.2 LTS\n",
            "Release:\t22.04\n",
            "Codename:\tjammy\n"
          ]
        }
      ]
    },
    {
      "cell_type": "markdown",
      "source": [
        "## カーネルのバージョン確認"
      ],
      "metadata": {
        "id": "UOUlSg-NU1Jr"
      }
    },
    {
      "cell_type": "code",
      "source": [
        "!uname -r"
      ],
      "metadata": {
        "colab": {
          "base_uri": "https://localhost:8080/"
        },
        "id": "c6E_VwKSU4Yt",
        "outputId": "91d1a3b7-88fb-434d-8d63-1f552aee57db"
      },
      "execution_count": null,
      "outputs": [
        {
          "output_type": "stream",
          "name": "stdout",
          "text": [
            "5.15.120+\n"
          ]
        }
      ]
    },
    {
      "cell_type": "markdown",
      "source": [
        "## アーキテクチャの確認"
      ],
      "metadata": {
        "id": "8Nbpa57zSr-8"
      }
    },
    {
      "cell_type": "code",
      "source": [
        "!uname -m"
      ],
      "metadata": {
        "colab": {
          "base_uri": "https://localhost:8080/"
        },
        "id": "dbNU0QL6Sup3",
        "outputId": "00be2a8c-cf7b-43a8-9837-3c1bcc12e5c3"
      },
      "execution_count": null,
      "outputs": [
        {
          "output_type": "stream",
          "name": "stdout",
          "text": [
            "x86_64\n"
          ]
        }
      ]
    },
    {
      "cell_type": "code",
      "source": [
        "!arch"
      ],
      "metadata": {
        "colab": {
          "base_uri": "https://localhost:8080/"
        },
        "id": "HZ2QVyRwSug2",
        "outputId": "47d9bff3-2801-4e6a-a7f7-ed46c0ff001b"
      },
      "execution_count": null,
      "outputs": [
        {
          "output_type": "stream",
          "name": "stdout",
          "text": [
            "x86_64\n"
          ]
        }
      ]
    },
    {
      "cell_type": "code",
      "source": [
        "!gcc -v"
      ],
      "metadata": {
        "colab": {
          "base_uri": "https://localhost:8080/"
        },
        "id": "h1MMVBSWS1X4",
        "outputId": "db7b8161-3690-4aeb-b6d3-70a0bee3c701"
      },
      "execution_count": null,
      "outputs": [
        {
          "output_type": "stream",
          "name": "stdout",
          "text": [
            "Using built-in specs.\n",
            "COLLECT_GCC=gcc\n",
            "COLLECT_LTO_WRAPPER=/usr/lib/gcc/x86_64-linux-gnu/11/lto-wrapper\n",
            "OFFLOAD_TARGET_NAMES=nvptx-none:amdgcn-amdhsa\n",
            "OFFLOAD_TARGET_DEFAULT=1\n",
            "Target: x86_64-linux-gnu\n",
            "Configured with: ../src/configure -v --with-pkgversion='Ubuntu 11.4.0-1ubuntu1~22.04' --with-bugurl=file:///usr/share/doc/gcc-11/README.Bugs --enable-languages=c,ada,c++,go,brig,d,fortran,objc,obj-c++,m2 --prefix=/usr --with-gcc-major-version-only --program-suffix=-11 --program-prefix=x86_64-linux-gnu- --enable-shared --enable-linker-build-id --libexecdir=/usr/lib --without-included-gettext --enable-threads=posix --libdir=/usr/lib --enable-nls --enable-bootstrap --enable-clocale=gnu --enable-libstdcxx-debug --enable-libstdcxx-time=yes --with-default-libstdcxx-abi=new --enable-gnu-unique-object --disable-vtable-verify --enable-plugin --enable-default-pie --with-system-zlib --enable-libphobos-checking=release --with-target-system-zlib=auto --enable-objc-gc=auto --enable-multiarch --disable-werror --enable-cet --with-arch-32=i686 --with-abi=m64 --with-multilib-list=m32,m64,mx32 --enable-multilib --with-tune=generic --enable-offload-targets=nvptx-none=/build/gcc-11-XeT9lY/gcc-11-11.4.0/debian/tmp-nvptx/usr,amdgcn-amdhsa=/build/gcc-11-XeT9lY/gcc-11-11.4.0/debian/tmp-gcn/usr --without-cuda-driver --enable-checking=release --build=x86_64-linux-gnu --host=x86_64-linux-gnu --target=x86_64-linux-gnu --with-build-config=bootstrap-lto-lean --enable-link-serialization=2\n",
            "Thread model: posix\n",
            "Supported LTO compression algorithms: zlib zstd\n",
            "gcc version 11.4.0 (Ubuntu 11.4.0-1ubuntu1~22.04) \n"
          ]
        }
      ]
    },
    {
      "cell_type": "markdown",
      "source": [
        "## ホスト名の確認"
      ],
      "metadata": {
        "id": "KNPRHt92Xg0T"
      }
    },
    {
      "cell_type": "code",
      "source": [
        "!hostname -i"
      ],
      "metadata": {
        "colab": {
          "base_uri": "https://localhost:8080/"
        },
        "id": "juI2s0KTXjpu",
        "outputId": "bf6d8a83-3d5f-4b14-bad1-6b943b11bf45"
      },
      "execution_count": null,
      "outputs": [
        {
          "output_type": "stream",
          "name": "stdout",
          "text": [
            "172.28.0.12\n"
          ]
        }
      ]
    },
    {
      "cell_type": "code",
      "source": [
        "!hostname"
      ],
      "metadata": {
        "colab": {
          "base_uri": "https://localhost:8080/"
        },
        "id": "lAeKLrbtXn80",
        "outputId": "0ea603ac-6157-48fa-82a0-a43b4d37f80d"
      },
      "execution_count": null,
      "outputs": [
        {
          "output_type": "stream",
          "name": "stdout",
          "text": [
            "42080de056aa\n"
          ]
        }
      ]
    },
    {
      "cell_type": "markdown",
      "source": [
        "## 12時間ルールのリセットまでの時間を確認"
      ],
      "metadata": {
        "id": "r1Y_h4ur95gV"
      }
    },
    {
      "cell_type": "code",
      "execution_count": null,
      "metadata": {
        "colab": {
          "base_uri": "https://localhost:8080/"
        },
        "id": "3fL4Zb2-92Iz",
        "outputId": "34f6bec7-7f3e-4653-9c45-ecd0c5dc7a3c"
      },
      "outputs": [
        {
          "output_type": "stream",
          "name": "stdout",
          "text": [
            "残り時間 : 11.99"
          ]
        }
      ],
      "source": [
        "!cat /proc/uptime | awk '{printf(\"残り時間 : %.2f\", 12-$1/60/60)}'"
      ]
    },
    {
      "cell_type": "markdown",
      "source": [
        "## 使用中GPUの確認"
      ],
      "metadata": {
        "id": "yXBYuTBh-MUz"
      }
    },
    {
      "cell_type": "code",
      "source": [
        "gpu_info = !nvidia-smi\n",
        "gpu_info = '\\n'.join(gpu_info)\n",
        "if gpu_info.find('failed') >= 0:\n",
        "  print('Not connected to a GPU')\n",
        "else:\n",
        "  print(gpu_info)"
      ],
      "metadata": {
        "colab": {
          "base_uri": "https://localhost:8080/"
        },
        "id": "R-Wp7_J2-PhL",
        "outputId": "17a74467-7f03-4e97-e293-e6a69219fa20"
      },
      "execution_count": null,
      "outputs": [
        {
          "output_type": "stream",
          "name": "stdout",
          "text": [
            "Thu Sep 21 13:41:05 2023       \n",
            "+-----------------------------------------------------------------------------+\n",
            "| NVIDIA-SMI 525.105.17   Driver Version: 525.105.17   CUDA Version: 12.0     |\n",
            "|-------------------------------+----------------------+----------------------+\n",
            "| GPU  Name        Persistence-M| Bus-Id        Disp.A | Volatile Uncorr. ECC |\n",
            "| Fan  Temp  Perf  Pwr:Usage/Cap|         Memory-Usage | GPU-Util  Compute M. |\n",
            "|                               |                      |               MIG M. |\n",
            "|===============================+======================+======================|\n",
            "|   0  Tesla V100-SXM2...  Off  | 00000000:00:04.0 Off |                    0 |\n",
            "| N/A   32C    P0    24W / 300W |      0MiB / 16384MiB |      0%      Default |\n",
            "|                               |                      |                  N/A |\n",
            "+-------------------------------+----------------------+----------------------+\n",
            "                                                                               \n",
            "+-----------------------------------------------------------------------------+\n",
            "| Processes:                                                                  |\n",
            "|  GPU   GI   CI        PID   Type   Process name                  GPU Memory |\n",
            "|        ID   ID                                                   Usage      |\n",
            "|=============================================================================|\n",
            "|  No running processes found                                                 |\n",
            "+-----------------------------------------------------------------------------+\n"
          ]
        }
      ]
    },
    {
      "cell_type": "markdown",
      "source": [
        "## 使用可能メモリの確認"
      ],
      "metadata": {
        "id": "iep8j3gc-lmg"
      }
    },
    {
      "cell_type": "code",
      "source": [
        "from psutil import virtual_memory\n",
        "ram_gb = virtual_memory().total / 1e9\n",
        "print('Your runtime has {:.1f} gigabytes of available RAM\\n'.format(ram_gb))\n",
        "\n",
        "if ram_gb < 20:\n",
        "  print('Not using a high-RAM runtime')\n",
        "else:\n",
        "  print('You are using a high-RAM runtime!')"
      ],
      "metadata": {
        "colab": {
          "base_uri": "https://localhost:8080/"
        },
        "id": "vfPWUror-QKo",
        "outputId": "47264308-01d6-47a8-c052-cb8299629b03"
      },
      "execution_count": null,
      "outputs": [
        {
          "output_type": "stream",
          "name": "stdout",
          "text": [
            "Your runtime has 13.6 gigabytes of available RAM\n",
            "\n",
            "Not using a high-RAM runtime\n"
          ]
        }
      ]
    },
    {
      "cell_type": "markdown",
      "source": [
        "## 稼働中プロセスの確認"
      ],
      "metadata": {
        "id": "sTItV5zf_Do5"
      }
    },
    {
      "cell_type": "code",
      "source": [
        "!ps aux"
      ],
      "metadata": {
        "colab": {
          "base_uri": "https://localhost:8080/"
        },
        "id": "iYc9hs9X-oB4",
        "outputId": "2d018c4e-86e3-4153-96ec-a09c3a89ffce"
      },
      "execution_count": null,
      "outputs": [
        {
          "output_type": "stream",
          "name": "stdout",
          "text": [
            "USER         PID %CPU %MEM    VSZ   RSS TTY      STAT START   TIME COMMAND\n",
            "root           1  0.0  0.0   1040     8 ?        Ss   13:31   0:00 /sbin/docker-\n",
            "root           6  0.1  0.3 886704 46464 ?        Sl   13:31   0:01 /tools/node/b\n",
            "root          16  0.0  0.0   7372  3528 ?        S    13:31   0:00 /bin/bash -e \n",
            "root          19  0.0  0.0   7372  1804 ?        S    13:31   0:00 /bin/bash -e \n",
            "root          21  0.0  0.0 1237508 13244 ?       Sl   13:31   0:00 /usr/colab/bi\n",
            "root          25  0.0  0.0   5804   920 ?        Ss   13:31   0:00 tail -n +0 -F\n",
            "root          57  0.8  0.0      0     0 ?        Z    13:31   0:06 [python3] <de\n",
            "root          58  0.0  0.3  66448 51200 ?        S    13:31   0:00 python3 /usr/\n",
            "root         103  0.5  1.2 559508 164556 ?       Sl   13:31   0:04 /usr/bin/pyth\n",
            "root         104  0.0  0.0 1228164 3732 ?        Sl   13:31   0:00 /usr/local/bi\n",
            "root        2215  1.0  0.8 1112428 109456 ?      Ssl  13:40   0:02 /usr/bin/pyth\n",
            "root        2258  0.0  0.0 538288 13000 ?        Sl   13:40   0:00 /usr/bin/pyth\n",
            "root        2287  0.0  0.0 1237252 12996 ?       Sl   13:40   0:00 /usr/colab/bi\n",
            "root        2292  2.6  1.0 894476 146020 ?       Sl   13:40   0:06 node /datalab\n",
            "root        3345  0.0  0.0   5772  1004 ?        S    13:44   0:00 sleep 1\n",
            "root        3346  0.0  0.0  10072  1548 ?        R    13:44   0:00 ps aux\n"
          ]
        }
      ]
    },
    {
      "cell_type": "markdown",
      "source": [
        "## CPUやプロセスなどの詳細情報の確認"
      ],
      "metadata": {
        "id": "sIBMUiTW_b_K"
      }
    },
    {
      "cell_type": "code",
      "source": [
        " !top -n 1"
      ],
      "metadata": {
        "colab": {
          "base_uri": "https://localhost:8080/"
        },
        "id": "yc3wle0m_G4x",
        "outputId": "e74db6b9-c1eb-4b5a-d571-e6119f17507c"
      },
      "execution_count": null,
      "outputs": [
        {
          "output_type": "stream",
          "name": "stdout",
          "text": [
            "\u001b[?1h\u001b=\u001b[H\u001b[2J\u001b[mtop - 13:46:08 up 14 min,  0 users,  load average: 0.23, 0.21, 0.13\u001b[m\u001b[m\u001b[m\u001b[m\u001b[K\n",
            "Tasks:\u001b[m\u001b[m\u001b[1m  16 \u001b[m\u001b[mtotal,\u001b[m\u001b[m\u001b[1m   1 \u001b[m\u001b[mrunning,\u001b[m\u001b[m\u001b[1m  14 \u001b[m\u001b[msleeping,\u001b[m\u001b[m\u001b[1m   0 \u001b[m\u001b[mstopped,\u001b[m\u001b[m\u001b[1m   1 \u001b[m\u001b[mzombie\u001b[m\u001b[m\u001b[m\u001b[m\u001b[K\n",
            "%Cpu(s):\u001b[m\u001b[m\u001b[1m  9.7 \u001b[m\u001b[mus,\u001b[m\u001b[m\u001b[1m  3.2 \u001b[m\u001b[msy,\u001b[m\u001b[m\u001b[1m  0.0 \u001b[m\u001b[mni,\u001b[m\u001b[m\u001b[1m 87.1 \u001b[m\u001b[mid,\u001b[m\u001b[m\u001b[1m  0.0 \u001b[m\u001b[mwa,\u001b[m\u001b[m\u001b[1m  0.0 \u001b[m\u001b[mhi,\u001b[m\u001b[m\u001b[1m  0.0 \u001b[m\u001b[msi,\u001b[m\u001b[m\u001b[1m  0.0 \u001b[m\u001b[mst\u001b[m\u001b[m\u001b[m\u001b[m\u001b[K\n",
            "MiB Mem :\u001b[m\u001b[m\u001b[1m  12982.6 \u001b[m\u001b[mtotal,\u001b[m\u001b[m\u001b[1m   9988.6 \u001b[m\u001b[mfree,\u001b[m\u001b[m\u001b[1m    686.7 \u001b[m\u001b[mused,\u001b[m\u001b[m\u001b[1m   2307.3 \u001b[m\u001b[mbuff/cache\u001b[m\u001b[m\u001b[m\u001b[m\u001b[K\n",
            "MiB Swap:\u001b[m\u001b[m\u001b[1m      0.0 \u001b[m\u001b[mtotal,\u001b[m\u001b[m\u001b[1m      0.0 \u001b[m\u001b[mfree,\u001b[m\u001b[m\u001b[1m      0.0 \u001b[m\u001b[mused.\u001b[m\u001b[m\u001b[1m  12019.8 \u001b[m\u001b[mavail Mem \u001b[m\u001b[m\u001b[m\u001b[m\u001b[K\n",
            "\u001b[K\n",
            "\u001b[7m    PID USER      PR  NI    VIRT    RES    SHR S  %CPU  %MEM     TIME+ COMMAND  \u001b[m\u001b[m\u001b[K\n",
            "\u001b[m   2215 root      20   0 1114052 109720  26316 S   6.7   0.8   0:02.97 python3  \u001b[m\u001b[m\u001b[K\n",
            "\u001b[m      1 root      20   0    1040      8      0 S   0.0   0.0   0:00.06 docker-+ \u001b[m\u001b[m\u001b[K\n",
            "\u001b[m      6 root      20   0  886704  46636  30884 S   0.0   0.4   0:01.30 node     \u001b[m\u001b[m\u001b[K\n",
            "\u001b[m     16 root      20   0    7372   3528   3224 S   0.0   0.0   0:00.37 oom_mon+ \u001b[m\u001b[m\u001b[K\n",
            "\u001b[m     19 root      20   0    7372   1804   1516 S   0.0   0.0   0:00.00 run.sh   \u001b[m\u001b[m\u001b[K\n",
            "\u001b[m     21 root      20   0 1237508  13924   8320 S   0.0   0.1   0:00.19 kernel_+ \u001b[m\u001b[m\u001b[K\n",
            "\u001b[m     25 root      20   0    5804    920    824 S   0.0   0.0   0:00.09 tail     \u001b[m\u001b[m\u001b[K\n",
            "\u001b[m     57 root      20   0       0      0      0 Z   0.0   0.0   0:06.61 python3  \u001b[m\u001b[m\u001b[K\n",
            "\u001b[m     58 root      20   0   66448  51200  18488 S   0.0   0.4   0:00.68 colab-f+ \u001b[m\u001b[m\u001b[K\n",
            "\u001b[m    103 root      20   0  559508 164812  53856 S   0.0   1.2   0:04.20 jupyter+ \u001b[m\u001b[m\u001b[K\n",
            "\u001b[m    104 root      20   0 1228164   5184   2928 S   0.0   0.0   0:00.07 dap_mul+ \u001b[m\u001b[m\u001b[K\n",
            "\u001b[m   2258 root      20   0  538288  13320   5096 S   0.0   0.1   0:00.07 python3  \u001b[m\u001b[m\u001b[K\n",
            "\u001b[m   2287 root      20   0 1237252  13268   6872 S   0.0   0.1   0:00.15 languag+ \u001b[m\u001b[m\u001b[K\n",
            "\u001b[m   2292 root      20   0  887816 129856  30340 S   0.0   1.0   0:07.34 node     \u001b[m\u001b[m\u001b[K\n",
            "\u001b[m   3677 root      20   0    5772   1008    908 S   0.0   0.0   0:00.00 sleep    \u001b[m\u001b[m\u001b[K\n",
            "\u001b[m\u001b[1m   3678 root      20   0   10348   3480   3120 R   0.0   0.0   0:00.00 top      \u001b[m\u001b[m\u001b[K\n",
            "\u001b[J\u001b[?1l\u001b>\u001b[25;1H\n",
            "\u001b[K"
          ]
        }
      ]
    },
    {
      "cell_type": "markdown",
      "source": [
        "## サービスの稼働状況の一覧を表示"
      ],
      "metadata": {
        "id": "XMWZQEWIMErF"
      }
    },
    {
      "cell_type": "code",
      "source": [
        "!systemctl list-unit-files -t service"
      ],
      "metadata": {
        "colab": {
          "base_uri": "https://localhost:8080/"
        },
        "id": "pi4YiqHL_T7W",
        "outputId": "a96f8a3f-c344-41fc-8238-285e088510b4"
      },
      "execution_count": null,
      "outputs": [
        {
          "output_type": "stream",
          "name": "stdout",
          "text": [
            "\u001b[0m\u001b[0;4mUNIT FILE                             \u001b[0m\u001b[0m\u001b[0;4m STATE   \u001b[0m\u001b[0m\u001b[0;4m VENDOR PRESET\u001b[0m\n",
            "apt-daily-upgrade.service              static   \u001b[0;38;5;245m-            \u001b[0m\n",
            "apt-daily.service                      static   \u001b[0;38;5;245m-            \u001b[0m\n",
            "autovt@.service                        \u001b[0;1;32malias   \u001b[0m\u001b[0;1;32m \u001b[0m\u001b[0;38;5;245m-            \u001b[0m\n",
            "console-getty.service                  \u001b[0;1;31mdisabled\u001b[0m\u001b[0;1;31m \u001b[0m\u001b[0;1;31mdisabled     \u001b[0m\n",
            "container-getty@.service               static   \u001b[0;38;5;245m-            \u001b[0m\n",
            "cryptdisks-early.service               \u001b[0;1;31mmasked  \u001b[0m\u001b[0;1;31m \u001b[0m\u001b[0;1;32menabled      \u001b[0m\n",
            "cryptdisks.service                     \u001b[0;1;31mmasked  \u001b[0m\u001b[0;1;31m \u001b[0m\u001b[0;1;32menabled      \u001b[0m\n",
            "dbus-org.freedesktop.hostname1.service \u001b[0;1;32malias   \u001b[0m\u001b[0;1;32m \u001b[0m\u001b[0;38;5;245m-            \u001b[0m\n",
            "dbus-org.freedesktop.locale1.service   \u001b[0;1;32malias   \u001b[0m\u001b[0;1;32m \u001b[0m\u001b[0;38;5;245m-            \u001b[0m\n",
            "dbus-org.freedesktop.login1.service    \u001b[0;1;32malias   \u001b[0m\u001b[0;1;32m \u001b[0m\u001b[0;38;5;245m-            \u001b[0m\n",
            "dbus-org.freedesktop.resolve1.service  \u001b[0;1;32malias   \u001b[0m\u001b[0;1;32m \u001b[0m\u001b[0;38;5;245m-            \u001b[0m\n",
            "dbus-org.freedesktop.timedate1.service \u001b[0;1;32malias   \u001b[0m\u001b[0;1;32m \u001b[0m\u001b[0;38;5;245m-            \u001b[0m\n",
            "dbus.service                           static   \u001b[0;38;5;245m-            \u001b[0m\n",
            "debug-shell.service                    \u001b[0;1;31mdisabled\u001b[0m\u001b[0;1;31m \u001b[0m\u001b[0;1;31mdisabled     \u001b[0m\n",
            "dpkg-db-backup.service                 static   \u001b[0;38;5;245m-            \u001b[0m\n",
            "e2scrub@.service                       static   \u001b[0;38;5;245m-            \u001b[0m\n",
            "e2scrub_all.service                    static   \u001b[0;38;5;245m-            \u001b[0m\n",
            "e2scrub_fail@.service                  static   \u001b[0;38;5;245m-            \u001b[0m\n",
            "e2scrub_reap.service                   \u001b[0;1;32menabled \u001b[0m\u001b[0;1;32m \u001b[0m\u001b[0;1;32menabled      \u001b[0m\n",
            "emergency.service                      static   \u001b[0;38;5;245m-            \u001b[0m\n",
            "fio.service                            \u001b[0;1;31mdisabled\u001b[0m\u001b[0;1;31m \u001b[0m\u001b[0;1;32menabled      \u001b[0m\n",
            "fstrim.service                         static   \u001b[0;38;5;245m-            \u001b[0m\n",
            "getty-static.service                   static   \u001b[0;38;5;245m-            \u001b[0m\n",
            "getty@.service                         \u001b[0;1;32menabled \u001b[0m\u001b[0;1;32m \u001b[0m\u001b[0;1;32menabled      \u001b[0m\n",
            "hwclock.service                        \u001b[0;1;31mmasked  \u001b[0m\u001b[0;1;31m \u001b[0m\u001b[0;1;32menabled      \u001b[0m\n",
            "initrd-cleanup.service                 static   \u001b[0;38;5;245m-            \u001b[0m\n",
            "initrd-parse-etc.service               static   \u001b[0;38;5;245m-            \u001b[0m\n",
            "initrd-switch-root.service             static   \u001b[0;38;5;245m-            \u001b[0m\n",
            "initrd-udevadm-cleanup-db.service      static   \u001b[0;38;5;245m-            \u001b[0m\n",
            "kmod-static-nodes.service              static   \u001b[0;38;5;245m-            \u001b[0m\n",
            "kmod.service                           \u001b[0;1;32malias   \u001b[0m\u001b[0;1;32m \u001b[0m\u001b[0;38;5;245m-            \u001b[0m\n",
            "man-db.service                         static   \u001b[0;38;5;245m-            \u001b[0m\n",
            "modprobe@.service                      static   \u001b[0;38;5;245m-            \u001b[0m\n",
            "motd-news.service                      static   \u001b[0;38;5;245m-            \u001b[0m\n",
            "packagekit-offline-update.service      static   \u001b[0;38;5;245m-            \u001b[0m\n",
            "packagekit.service                     static   \u001b[0;38;5;245m-            \u001b[0m\n",
            "polkit.service                         static   \u001b[0;38;5;245m-            \u001b[0m\n",
            "procps.service                         \u001b[0;1;32malias   \u001b[0m\u001b[0;1;32m \u001b[0m\u001b[0;38;5;245m-            \u001b[0m\n",
            "quotaon.service                        static   \u001b[0;38;5;245m-            \u001b[0m\n",
            "rc-local.service                       static   \u001b[0;38;5;245m-            \u001b[0m\n",
            "rc.service                             \u001b[0;1;31mmasked  \u001b[0m\u001b[0;1;31m \u001b[0m\u001b[0;1;32menabled      \u001b[0m\n",
            "rcS.service                            \u001b[0;1;31mmasked  \u001b[0m\u001b[0;1;31m \u001b[0m\u001b[0;1;32menabled      \u001b[0m\n",
            "rescue.service                         static   \u001b[0;38;5;245m-            \u001b[0m\n",
            "rsync.service                          \u001b[0;1;31mdisabled\u001b[0m\u001b[0;1;31m \u001b[0m\u001b[0;1;32menabled      \u001b[0m\n",
            "serial-getty@.service                  \u001b[0;1;31mdisabled\u001b[0m\u001b[0;1;31m \u001b[0m\u001b[0;1;32menabled      \u001b[0m\n",
            "sudo.service                           \u001b[0;1;31mmasked  \u001b[0m\u001b[0;1;31m \u001b[0m\u001b[0;1;32menabled      \u001b[0m\n",
            "system-update-cleanup.service          static   \u001b[0;38;5;245m-            \u001b[0m\n",
            "systemd-ask-password-console.service   static   \u001b[0;38;5;245m-            \u001b[0m\n",
            "systemd-ask-password-wall.service      static   \u001b[0;38;5;245m-            \u001b[0m\n",
            "systemd-backlight@.service             static   \u001b[0;38;5;245m-            \u001b[0m\n",
            "systemd-binfmt.service                 static   \u001b[0;38;5;245m-            \u001b[0m\n",
            "systemd-bless-boot.service             static   \u001b[0;38;5;245m-            \u001b[0m\n",
            "systemd-boot-check-no-failures.service \u001b[0;1;31mdisabled\u001b[0m\u001b[0;1;31m \u001b[0m\u001b[0;1;31mdisabled     \u001b[0m\n",
            "systemd-boot-system-token.service      static   \u001b[0;38;5;245m-            \u001b[0m\n",
            "systemd-exit.service                   static   \u001b[0;38;5;245m-            \u001b[0m\n",
            "systemd-fsck-root.service              static   \u001b[0;38;5;245m-            \u001b[0m\n",
            "systemd-fsck@.service                  static   \u001b[0;38;5;245m-            \u001b[0m\n",
            "systemd-fsckd.service                  static   \u001b[0;38;5;245m-            \u001b[0m\n",
            "systemd-halt.service                   static   \u001b[0;38;5;245m-            \u001b[0m\n",
            "systemd-hibernate-resume@.service      static   \u001b[0;38;5;245m-            \u001b[0m\n",
            "systemd-hibernate.service              static   \u001b[0;38;5;245m-            \u001b[0m\n",
            "systemd-hostnamed.service              static   \u001b[0;38;5;245m-            \u001b[0m\n",
            "systemd-hybrid-sleep.service           static   \u001b[0;38;5;245m-            \u001b[0m\n",
            "systemd-initctl.service                static   \u001b[0;38;5;245m-            \u001b[0m\n",
            "systemd-journal-flush.service          static   \u001b[0;38;5;245m-            \u001b[0m\n",
            "systemd-journald.service               static   \u001b[0;38;5;245m-            \u001b[0m\n",
            "systemd-journald@.service              static   \u001b[0;38;5;245m-            \u001b[0m\n",
            "systemd-kexec.service                  static   \u001b[0;38;5;245m-            \u001b[0m\n",
            "systemd-localed.service                static   \u001b[0;38;5;245m-            \u001b[0m\n",
            "systemd-logind.service                 static   \u001b[0;38;5;245m-            \u001b[0m\n",
            "systemd-machine-id-commit.service      static   \u001b[0;38;5;245m-            \u001b[0m\n",
            "systemd-modules-load.service           static   \u001b[0;38;5;245m-            \u001b[0m\n",
            "systemd-network-generator.service      \u001b[0;1;31mdisabled\u001b[0m\u001b[0;1;31m \u001b[0m\u001b[0;1;32menabled      \u001b[0m\n",
            "systemd-networkd-wait-online.service   \u001b[0;1;31mdisabled\u001b[0m\u001b[0;1;31m \u001b[0m\u001b[0;1;31mdisabled     \u001b[0m\n",
            "systemd-networkd.service               \u001b[0;1;31mdisabled\u001b[0m\u001b[0;1;31m \u001b[0m\u001b[0;1;32menabled      \u001b[0m\n",
            "systemd-poweroff.service               static   \u001b[0;38;5;245m-            \u001b[0m\n",
            "systemd-pstore.service                 \u001b[0;1;32menabled \u001b[0m\u001b[0;1;32m \u001b[0m\u001b[0;1;32menabled      \u001b[0m\n",
            "systemd-quotacheck.service             static   \u001b[0;38;5;245m-            \u001b[0m\n",
            "systemd-random-seed.service            static   \u001b[0;38;5;245m-            \u001b[0m\n",
            "systemd-reboot.service                 static   \u001b[0;38;5;245m-            \u001b[0m\n",
            "systemd-remount-fs.service             static   \u001b[0;38;5;245m-            \u001b[0m\n",
            "systemd-resolved.service               \u001b[0;1;32menabled \u001b[0m\u001b[0;1;32m \u001b[0m\u001b[0;1;32menabled      \u001b[0m\n",
            "systemd-rfkill.service                 static   \u001b[0;38;5;245m-            \u001b[0m\n",
            "systemd-suspend-then-hibernate.service static   \u001b[0;38;5;245m-            \u001b[0m\n",
            "systemd-suspend.service                static   \u001b[0;38;5;245m-            \u001b[0m\n",
            "systemd-sysctl.service                 static   \u001b[0;38;5;245m-            \u001b[0m\n",
            "systemd-sysext.service                 \u001b[0;1;31mdisabled\u001b[0m\u001b[0;1;31m \u001b[0m\u001b[0;1;32menabled      \u001b[0m\n",
            "systemd-sysusers.service               static   \u001b[0;38;5;245m-            \u001b[0m\n",
            "systemd-time-wait-sync.service         \u001b[0;1;31mdisabled\u001b[0m\u001b[0;1;31m \u001b[0m\u001b[0;1;31mdisabled     \u001b[0m\n",
            "systemd-timedated.service              static   \u001b[0;38;5;245m-            \u001b[0m\n",
            "systemd-tmpfiles-clean.service         static   \u001b[0;38;5;245m-            \u001b[0m\n",
            "systemd-tmpfiles-setup-dev.service     static   \u001b[0;38;5;245m-            \u001b[0m\n",
            "systemd-tmpfiles-setup.service         static   \u001b[0;38;5;245m-            \u001b[0m\n",
            "systemd-update-utmp-runlevel.service   static   \u001b[0;38;5;245m-            \u001b[0m\n",
            "systemd-update-utmp.service            static   \u001b[0;38;5;245m-            \u001b[0m\n",
            "systemd-user-sessions.service          static   \u001b[0;38;5;245m-            \u001b[0m\n",
            "systemd-volatile-root.service          static   \u001b[0;38;5;245m-            \u001b[0m\n",
            "user-runtime-dir@.service              static   \u001b[0;38;5;245m-            \u001b[0m\n",
            "user@.service                          static   \u001b[0;38;5;245m-            \u001b[0m\n",
            "x11-common.service                     \u001b[0;1;31mmasked  \u001b[0m\u001b[0;1;31m \u001b[0m\u001b[0;1;32menabled      \u001b[0m\n",
            "\n",
            "100 unit files listed.\n"
          ]
        }
      ]
    },
    {
      "cell_type": "markdown",
      "source": [
        "## 起動時に有効化されるサービスの一覧"
      ],
      "metadata": {
        "id": "95aUb8OJMZ2h"
      }
    },
    {
      "cell_type": "code",
      "source": [
        "!systemctl list-unit-files -t service | grep enabled"
      ],
      "metadata": {
        "colab": {
          "base_uri": "https://localhost:8080/"
        },
        "id": "n36FMGGSMfCQ",
        "outputId": "2ab81276-8b42-4d9a-db05-abadc4ef2b27"
      },
      "execution_count": null,
      "outputs": [
        {
          "output_type": "stream",
          "name": "stdout",
          "text": [
            "cryptdisks-early.service               masked   enabled\n",
            "cryptdisks.service                     masked   enabled\n",
            "e2scrub_reap.service                   enabled  enabled\n",
            "fio.service                            disabled enabled\n",
            "getty@.service                         enabled  enabled\n",
            "hwclock.service                        masked   enabled\n",
            "rc.service                             masked   enabled\n",
            "rcS.service                            masked   enabled\n",
            "rsync.service                          disabled enabled\n",
            "serial-getty@.service                  disabled enabled\n",
            "sudo.service                           masked   enabled\n",
            "systemd-network-generator.service      disabled enabled\n",
            "systemd-networkd.service               disabled enabled\n",
            "systemd-pstore.service                 enabled  enabled\n",
            "systemd-resolved.service               enabled  enabled\n",
            "systemd-sysext.service                 disabled enabled\n",
            "x11-common.service                     masked   enabled\n"
          ]
        }
      ]
    },
    {
      "cell_type": "markdown",
      "source": [
        "## 起動時に無効化されるサービスの一覧"
      ],
      "metadata": {
        "id": "f9PIoJtUMiyD"
      }
    },
    {
      "cell_type": "code",
      "source": [
        "!systemctl list-unit-files -t service | grep disabled"
      ],
      "metadata": {
        "colab": {
          "base_uri": "https://localhost:8080/"
        },
        "id": "rwMtVrgpMlk2",
        "outputId": "b3d0430c-b893-455c-c5ef-c19a4ed05ac3"
      },
      "execution_count": null,
      "outputs": [
        {
          "output_type": "stream",
          "name": "stdout",
          "text": [
            "console-getty.service                  disabled disabled\n",
            "debug-shell.service                    disabled disabled\n",
            "fio.service                            disabled enabled\n",
            "rsync.service                          disabled enabled\n",
            "serial-getty@.service                  disabled enabled\n",
            "systemd-boot-check-no-failures.service disabled disabled\n",
            "systemd-network-generator.service      disabled enabled\n",
            "systemd-networkd-wait-online.service   disabled disabled\n",
            "systemd-networkd.service               disabled enabled\n",
            "systemd-sysext.service                 disabled enabled\n",
            "systemd-time-wait-sync.service         disabled disabled\n"
          ]
        }
      ]
    },
    {
      "cell_type": "markdown",
      "source": [
        "## ネットワークトラフィック確認"
      ],
      "metadata": {
        "id": "mKx-lFjbM3ha"
      }
    },
    {
      "cell_type": "code",
      "source": [
        "!tcpdump"
      ],
      "metadata": {
        "colab": {
          "base_uri": "https://localhost:8080/"
        },
        "id": "ceRgUFUpMnEt",
        "outputId": "dc30906b-3b3e-4339-8eab-62bcd667f032"
      },
      "execution_count": null,
      "outputs": [
        {
          "output_type": "stream",
          "name": "stdout",
          "text": [
            "/bin/bash: line 1: tcpdump: command not found\n"
          ]
        }
      ]
    },
    {
      "cell_type": "markdown",
      "source": [
        "## ネットワークインターフェース(NIC)の確認"
      ],
      "metadata": {
        "id": "ojODtyucNNNW"
      }
    },
    {
      "cell_type": "code",
      "source": [
        "!ifconfig"
      ],
      "metadata": {
        "colab": {
          "base_uri": "https://localhost:8080/"
        },
        "id": "en2MruGlM7DO",
        "outputId": "5accac3a-3e3c-488b-9aa2-1ca917d8dde2"
      },
      "execution_count": null,
      "outputs": [
        {
          "output_type": "stream",
          "name": "stdout",
          "text": [
            "/bin/bash: line 1: ifconfig: command not found\n"
          ]
        }
      ]
    },
    {
      "cell_type": "code",
      "source": [
        "!ipconfig"
      ],
      "metadata": {
        "colab": {
          "base_uri": "https://localhost:8080/"
        },
        "id": "Y_q9-GqvNINl",
        "outputId": "ad00de76-7250-4096-ca11-7e61879e0431"
      },
      "execution_count": null,
      "outputs": [
        {
          "output_type": "stream",
          "name": "stdout",
          "text": [
            "/bin/bash: line 1: ipconfig: command not found\n"
          ]
        }
      ]
    },
    {
      "cell_type": "code",
      "source": [
        "!ip -s addr"
      ],
      "metadata": {
        "colab": {
          "base_uri": "https://localhost:8080/"
        },
        "id": "9BDnpNCKNczM",
        "outputId": "7b0a7a89-1fc7-429b-c12f-5d827a613150"
      },
      "execution_count": null,
      "outputs": [
        {
          "output_type": "stream",
          "name": "stdout",
          "text": [
            "1: lo: <LOOPBACK,UP,LOWER_UP> mtu 65536 qdisc noqueue state UNKNOWN group default qlen 1000\n",
            "    link/loopback 00:00:00:00:00:00 brd 00:00:00:00:00:00\n",
            "    inet 127.0.0.1/8 scope host lo\n",
            "       valid_lft forever preferred_lft forever\n",
            "    RX:  bytes packets errors dropped  missed   mcast           \n",
            "        759649    3274      0       0       0       0 \n",
            "    TX:  bytes packets errors dropped carrier collsns           \n",
            "        759649    3274      0       0       0       0 \n",
            "7: eth0@if8: <BROADCAST,MULTICAST,UP,LOWER_UP> mtu 1500 qdisc noqueue state UP group default \n",
            "    link/ether 02:42:ac:1c:00:0c brd ff:ff:ff:ff:ff:ff link-netnsid 0\n",
            "    inet 172.28.0.12/16 brd 172.28.255.255 scope global eth0\n",
            "       valid_lft forever preferred_lft forever\n",
            "    RX:  bytes packets errors dropped  missed   mcast           \n",
            "        632826    1971      0       0       0       0 \n",
            "    TX:  bytes packets errors dropped carrier collsns           \n",
            "        521119    1496      0       0       0       0 \n"
          ]
        }
      ]
    },
    {
      "cell_type": "markdown",
      "source": [
        "## ネットワーク接続の確認"
      ],
      "metadata": {
        "id": "KzH8qMx8OD9_"
      }
    },
    {
      "cell_type": "code",
      "source": [
        "!ping youtube.com -c 2"
      ],
      "metadata": {
        "colab": {
          "base_uri": "https://localhost:8080/"
        },
        "id": "9xsBxUl2Nxe8",
        "outputId": "1b8da41a-39ba-42a9-9d9c-eb4c5033a630"
      },
      "execution_count": null,
      "outputs": [
        {
          "output_type": "stream",
          "name": "stdout",
          "text": [
            "/bin/bash: line 1: ping: command not found\n"
          ]
        }
      ]
    },
    {
      "cell_type": "markdown",
      "source": [
        "## ポートの開閉状況を確認\n"
      ],
      "metadata": {
        "id": "xdmgmUsOYsfX"
      }
    },
    {
      "cell_type": "code",
      "source": [
        "# 対象サーバの80番ポートの開閉状況\n",
        "!nc -v -w 1 127.0.0.1 -z 80"
      ],
      "metadata": {
        "colab": {
          "base_uri": "https://localhost:8080/"
        },
        "id": "OFK6cnseYvm6",
        "outputId": "79cf68e8-c9eb-4e70-e9da-bafb33c6e668"
      },
      "execution_count": null,
      "outputs": [
        {
          "output_type": "stream",
          "name": "stdout",
          "text": [
            "/bin/bash: line 1: nc: command not found\n"
          ]
        }
      ]
    },
    {
      "cell_type": "code",
      "source": [
        "# 対象サーバの開いているポートを確認\n",
        "!nc -zv 127.0.0.1 1-65535 2>&1 |grep succeeded"
      ],
      "metadata": {
        "id": "WZiufLOTZCCQ"
      },
      "execution_count": null,
      "outputs": []
    },
    {
      "cell_type": "code",
      "source": [
        "!sudo ss -ltunp"
      ],
      "metadata": {
        "colab": {
          "base_uri": "https://localhost:8080/"
        },
        "id": "Z6vgyMLuZhpe",
        "outputId": "958150da-f501-4cdc-b5c6-ff151b014c0e"
      },
      "execution_count": null,
      "outputs": [
        {
          "output_type": "stream",
          "name": "stdout",
          "text": [
            "Netid State  Recv-Q Send-Q Local Address:Port  Peer Address:PortProcess                                 \n",
            "udp   UNCONN 0      0         127.0.0.11:54459      0.0.0.0:*                                           \n",
            "tcp   LISTEN 0      128      172.28.0.12:9000       0.0.0.0:*    users:((\"jupyter-noteboo\",pid=82,fd=7))\n",
            "tcp   LISTEN 0      100        127.0.0.1:37001      0.0.0.0:*    users:((\"python3\",pid=575,fd=22))      \n",
            "tcp   LISTEN 0      4096       127.0.0.1:32813      0.0.0.0:*    users:((\"python3\",pid=610,fd=3))       \n",
            "tcp   LISTEN 0      4096     172.28.0.12:6000       0.0.0.0:*    users:((\"kernel_manager_\",pid=33,fd=3))\n",
            "tcp   LISTEN 0      4096      127.0.0.11:36785      0.0.0.0:*                                           \n",
            "tcp   LISTEN 0      4096       127.0.0.1:40949      0.0.0.0:*    users:((\"python3\",pid=610,fd=4))       \n",
            "tcp   LISTEN 0      128        127.0.0.1:3453       0.0.0.0:*    users:((\"colab-fileshim.\",pid=61,fd=3))\n",
            "tcp   LISTEN 0      511                *:8080             *:*    users:((\"node\",pid=6,fd=21))           \n"
          ]
        }
      ]
    },
    {
      "cell_type": "markdown",
      "source": [
        "## ネットワーク経路の確認"
      ],
      "metadata": {
        "id": "QJgBy8r_OQp8"
      }
    },
    {
      "cell_type": "code",
      "source": [
        "!traceroute youtube.com"
      ],
      "metadata": {
        "colab": {
          "base_uri": "https://localhost:8080/"
        },
        "id": "QEYCpbYVOTjB",
        "outputId": "45e1758f-c57d-4469-eecd-441a87e06fe3"
      },
      "execution_count": null,
      "outputs": [
        {
          "output_type": "stream",
          "name": "stdout",
          "text": [
            "/bin/bash: line 1: traceroute: command not found\n"
          ]
        }
      ]
    },
    {
      "cell_type": "markdown",
      "source": [
        "## DNSの稼働状況を確認"
      ],
      "metadata": {
        "id": "PVTeiJOcOhBP"
      }
    },
    {
      "cell_type": "code",
      "source": [
        "!dig www.google.co.jp"
      ],
      "metadata": {
        "colab": {
          "base_uri": "https://localhost:8080/"
        },
        "id": "gcTGAYyoOUyr",
        "outputId": "cd633bb9-3c2c-4af5-f462-9477143e0ac2"
      },
      "execution_count": null,
      "outputs": [
        {
          "output_type": "stream",
          "name": "stdout",
          "text": [
            "/bin/bash: line 1: dig: command not found\n"
          ]
        }
      ]
    },
    {
      "cell_type": "markdown",
      "source": [
        "## 名前解決できるか確認"
      ],
      "metadata": {
        "id": "JI3eFndcOxgK"
      }
    },
    {
      "cell_type": "code",
      "source": [
        "!nslookup www.google.co.jp"
      ],
      "metadata": {
        "colab": {
          "base_uri": "https://localhost:8080/"
        },
        "id": "nrONZlwTOmZQ",
        "outputId": "6e441ccd-0272-43c5-d4d2-bc8041c5ebe9"
      },
      "execution_count": null,
      "outputs": [
        {
          "output_type": "stream",
          "name": "stdout",
          "text": [
            "/bin/bash: line 1: nslookup: command not found\n"
          ]
        }
      ]
    },
    {
      "cell_type": "markdown",
      "source": [
        "## HTTPクライアントの動作"
      ],
      "metadata": {
        "id": "W6ty1SZqO6u0"
      }
    },
    {
      "cell_type": "code",
      "source": [
        "!curl -v https://www.google.co.jp"
      ],
      "metadata": {
        "colab": {
          "base_uri": "https://localhost:8080/"
        },
        "id": "Dfs_rA7UO1_0",
        "outputId": "eded8c60-ef0e-4b05-9967-c11e83198481"
      },
      "execution_count": null,
      "outputs": [
        {
          "output_type": "stream",
          "name": "stdout",
          "text": [
            "*   Trying 108.177.112.94:443...\n",
            "* Connected to www.google.co.jp (108.177.112.94) port 443 (#0)\n",
            "* ALPN, offering h2\n",
            "* ALPN, offering http/1.1\n",
            "*  CAfile: /etc/ssl/certs/ca-certificates.crt\n",
            "*  CApath: /etc/ssl/certs\n",
            "* TLSv1.0 (OUT), TLS header, Certificate Status (22):\n",
            "* TLSv1.3 (OUT), TLS handshake, Client hello (1):\n",
            "* TLSv1.2 (IN), TLS header, Certificate Status (22):\n",
            "* TLSv1.3 (IN), TLS handshake, Server hello (2):\n",
            "* TLSv1.2 (IN), TLS header, Finished (20):\n",
            "* TLSv1.2 (IN), TLS header, Supplemental data (23):\n",
            "* TLSv1.3 (IN), TLS handshake, Encrypted Extensions (8):\n",
            "* TLSv1.3 (IN), TLS handshake, Certificate (11):\n",
            "* TLSv1.3 (IN), TLS handshake, CERT verify (15):\n",
            "* TLSv1.3 (IN), TLS handshake, Finished (20):\n",
            "* TLSv1.2 (OUT), TLS header, Finished (20):\n",
            "* TLSv1.3 (OUT), TLS change cipher, Change cipher spec (1):\n",
            "* TLSv1.2 (OUT), TLS header, Supplemental data (23):\n",
            "* TLSv1.3 (OUT), TLS handshake, Finished (20):\n",
            "* SSL connection using TLSv1.3 / TLS_AES_256_GCM_SHA384\n",
            "* ALPN, server accepted to use h2\n",
            "* Server certificate:\n",
            "*  subject: CN=*.google.co.jp\n",
            "*  start date: Aug 14 08:23:49 2023 GMT\n",
            "*  expire date: Nov  6 08:23:48 2023 GMT\n",
            "*  subjectAltName: host \"www.google.co.jp\" matched cert's \"*.google.co.jp\"\n",
            "*  issuer: C=US; O=Google Trust Services LLC; CN=GTS CA 1C3\n",
            "*  SSL certificate verify ok.\n",
            "* Using HTTP2, server supports multiplexing\n",
            "* Connection state changed (HTTP/2 confirmed)\n",
            "* Copying HTTP/2 data in stream buffer to connection buffer after upgrade: len=0\n",
            "* TLSv1.2 (OUT), TLS header, Supplemental data (23):\n",
            "* TLSv1.2 (OUT), TLS header, Supplemental data (23):\n",
            "* TLSv1.2 (OUT), TLS header, Supplemental data (23):\n",
            "* Using Stream ID: 1 (easy handle 0x594f4ac89e90)\n",
            "* TLSv1.2 (OUT), TLS header, Supplemental data (23):\n",
            "> GET / HTTP/2\r\n",
            "> Host: www.google.co.jp\r\n",
            "> user-agent: curl/7.81.0\r\n",
            "> accept: */*\r\n",
            "> \r\n",
            "* TLSv1.2 (IN), TLS header, Supplemental data (23):\n",
            "* TLSv1.2 (OUT), TLS header, Supplemental data (23):\n",
            "* TLSv1.2 (IN), TLS header, Supplemental data (23):\n",
            "* TLSv1.2 (IN), TLS header, Supplemental data (23):\n",
            "< HTTP/2 200 \r\n",
            "< date: Thu, 21 Sep 2023 14:54:14 GMT\r\n",
            "< expires: -1\r\n",
            "< cache-control: private, max-age=0\r\n",
            "< content-type: text/html; charset=Shift_JIS\r\n",
            "< content-security-policy-report-only: object-src 'none';base-uri 'self';script-src 'nonce-FyKjfPlc9KvJFgPA60THeA' 'strict-dynamic' 'report-sample' 'unsafe-eval' 'unsafe-inline' https: http:;report-uri https://csp.withgoogle.com/csp/gws/other-hp\r\n",
            "< p3p: CP=\"This is not a P3P policy! See g.co/p3phelp for more info.\"\r\n",
            "< server: gws\r\n",
            "< x-xss-protection: 0\r\n",
            "< x-frame-options: SAMEORIGIN\r\n",
            "< set-cookie: 1P_JAR=2023-09-21-14; expires=Sat, 21-Oct-2023 14:54:14 GMT; path=/; domain=.google.co.jp; Secure\r\n",
            "< set-cookie: AEC=Ad49MVGllHjM9c9Gp74MTgUDLPH0L-o8S37rR25hIquCJyJLmbDZZFNpzQ; expires=Tue, 19-Mar-2024 14:54:14 GMT; path=/; domain=.google.co.jp; Secure; HttpOnly; SameSite=lax\r\n",
            "< set-cookie: NID=511=mxLqSCXk7sJvoDRcGLg9XtSJMDI8D0DHCaSM1ei7Sigdo6-bi1xUKSwPvZMgZgugiAwu53EPvjpHl9cNnWQXS7A9VTv1vQX_o5sMrCaXDp7_oleFYC48mInN4xzZyIIiYs5NKzApmbEM-VvYT0zFh9JJ_io51wNWE2NHfjmWuGQ; expires=Fri, 22-Mar-2024 14:54:14 GMT; path=/; domain=.google.co.jp; HttpOnly\r\n",
            "< accept-ranges: none\r\n",
            "< vary: Accept-Encoding\r\n",
            "< \r\n",
            "* TLSv1.2 (IN), TLS header, Supplemental data (23):\n",
            "<!doctype html><html itemscope=\"\" itemtype=\"http://schema.org/WebPage\" lang=\"en\"><head><meta content=\"Search the world's information, including webpages, images, videos and more. Google has many special features to help you find exactly what you're looking for.\" name=\"description\"><meta content=\"noodp\" name=\"robots\"><meta content=\"text/html; charset=UTF-8\" http-equiv=\"Content-Type\"><meta content=\"/images/branding/googleg/1x/googleg_standard_color_128dp.png\" itemprop=\"image\"><title>Google</title><script nonce=\"FyKjfPlc9KvJFgPA60THeA\">(function(){var _g={kEI:'FlkMZYbqD_yqqtsP5t-j8Ao',kEXPI:'0,1365468,206,4804,2316,383,246,5,1129120,1197706,380784,16115,28684,22430,1362,284,12029,2821,1930,12835,4998,17075,38444,889,1983,2891,3926,214,4209,3405,606,29877,791,30022,6398,8926,2025,1,16916,2652,4,32894,29703,1457,22592,6645,7596,1,42154,2,16395,342,23024,5679,1020,31123,4567,6253,17116,6308,1252,33064,2,2,1,6959,17667,2006,8155,23351,873,6577,3048,10008,7,1922,9779,42459,20198,928,5122,14087,14,82,16514,3692,109,24* TLSv1.2 (IN), TLS header, Supplemental data (23):\n",
            "12,4759,1097,3785,9344,5859,550,4825,3030,17620,7734,6072,12026,7265,1896,275,5253,234,2365,3962,1635,8839,4653,13206,7915,7857,2477,2408,3,9,5400,3592,5203197,13,6820,109,2,195,265,5994504,98,2803117,3311,141,795,19735,1,347,8474,153,257,37,25,18,21,5,15,25,20721489,3219966,2773819,1286959,36925,2358,176,1444,1543,12,33,3,1393,3,684,1395366,392637,22608627,762123,1046,2,260,2738,3396,1240,8408,2879,1598,1086,2465,2727,2767,937,83,156,1694,274,6313,1034,669,3413,1600,1378,3042,873,1,1,2,3,346,2471,159,245,486,238,2310,254,1090,2098,2033,1966,553,1326,3236,294,50,1491,2,922,369,1427,1466,2467,1092,266,421,776,104,1422,120,157,157,2799,441,704,96,279,61,465,774,2,339,626,97,101,2076,1,2,611,734,5,917,1787,323,713,2,474,513,9,200,418,1108,739,8,264,45,515,433,2,75,172,192,1,3,4,2,2,2,187,78,1103,560,97,15,722,176,9,10,877,599,1,1,2,3,248,1,138,2,189,480,375,1,254,55,285,325,300,4,49,477,266,6,840,931,110,99,4,325,454,4,909,1,12,830,927,688,4,163,555,145,3,851,4,7,119,521,7,1,8,154,182,1,14,219,63,494,4,9,21,198,1021,155,134,44,351,59,10,2,19,3,694,274,1064,152,38,36,61,7,5,131,117,2,7,1,574,328,1034,7,1,8,981,65,2246,335,1069',kBL:'ByHZ',kOPI:89978449};(function(){var a;(null==(a=window.google)?0:a.stvsc)?google.kEI=_g.kEI:window.google=_g;}).call(this);})();(function(){google.sn='webhp';google.kHL='en';})();(function(){\n",
            "* TLSv1.2 (IN), TLS header, Supplemental data (23):\n",
            "var h=this||self;function l(){return void 0!==window.google&&void 0!==window.google.kOPI&&0!==window.google.kOPI?window.google.kOPI:null};var m,n=[];function p(a){for(var b;a&&(!a.getAttribute||!(b=a.getAttribute(\"eid\")));)a=a.parentNode;return b||m}function q(a){for(var b=null;a&&(!a.getAttribute||!(b=a.getAttribute(\"leid\")));)a=a.parentNode;return b}function r(a){/^http:/i.test(a)&&\"https:\"===window.location.protocol&&(google.ml&&google.ml(Error(\"a\"),!1,{src:a,glmm:1}),a=\"\");return a}\n",
            "function t(a,b,c,d,k){var e=\"\";-1===b.search(\"&ei=\")&&(e=\"&ei=\"+p(d),-1===b.search(\"&lei=\")&&(d=q(d))&&(e+=\"&lei=\"+d));d=\"\";var g=-1===b.search(\"&cshid=\")&&\"slh\"!==a,f=[];f.push([\"zx\",Date.now().toString()]);h._cshid&&g&&f.push([\"cshid\",h._cshid]);c=c();null!=c&&f.push([\"opi\",c.toString()]);for(c=0;c<f.length;c++){if(0===c||0<c)d+=\"&\";d+=f[c][0]+\"=\"+f[c][1]}return\"/\"+(k||\"gen_204\")+\"?atyp=i&ct=\"+String(a)+\"&cad=\"+(b+e+d)};m=google.kEI;google.getEI=p;google.getLEI=q;google.ml=function(){return null};google.log=function(a,b,c,d,k,e){e=void 0===e?l:e;c||(c=t(a,b,e,d,k));if(c=r(c)){a=new Image;var g=n.length;n[g]=a;a.onerror=a.onload=a.onabort=function(){delete n[g]};a.src=c}};google.logUrl=function(a,b){b=void 0===b?l:b;return t(\"\",a,b)};}).call(this);(function(){google.y={};google.sy=[];google.x=function(a,b){if(a)var c=a.id;else{do c=Math.random();while(google.y[c])}google.y[c]=[a,b];return!1};google.sx=function(a){google.sy.push(a)};google.lm=[];google.plm=function(a){google.lm.push.apply(google.lm,a)};google.lq=[];google.load=function(a,b,c){google.lq.push([[a],b,c])};google.loadAll=function(a,b){google.lq.push([a,b])};google.bx=!1;google.lx=function(){};var d=[];google.fce=function(a,b,c,e){d.push([a,b,c,e])};google.qce=d;}).call(this);google.f={};(function(){\n",
            "* TLSv1.2 (IN), TLS header, Supplemental data (23):\n",
            "document.documentElement.addEventListener(\"submit\",function(b){var a;if(a=b.target){var c=a.getAttribute(\"data-submitfalse\");a=\"1\"===c||\"q\"===c&&!a.elements.q.value?!0:!1}else a=!1;a&&(b.preventDefault(),b.stopPropagation())},!0);document.documentElement.addEventListener(\"click\",function(b){var a;a:{for(a=b.target;a&&a!==document.documentElement;a=a.parentElement)if(\"A\"===a.tagName){a=\"1\"===a.getAttribute(\"data-nohref\");break a}a=!1}a&&b.preventDefault()},!0);}).call(this);</script><style>#gbar,#guser{font-size:13px;padding-top:1px !important;}#gbar{height:22px}#guser{padding-bottom:7px !important;text-align:right}.gbh,.gbd{border-top:1px solid #c9d7f1;font-size:1px}.gbh{height:0;position:absolute;top:24px;width:100%}@media all{.gb1{height:22px;margin-right:.5em;vertical-align:top}#gbar{float:left}}a.gb1,a.gb4{text-decoration:underline !important}a.gb1,a.gb4{color:#00c !important}.gbi .gb4{color:#dd8e27 !important}.gbf .gb4{color:#900 !important}\n",
            "</style><style>body,td,a,p,.h{font-family:arial,sans-serif}body* TLSv1.2 (IN), TLS header, Supplemental data (23):\n",
            "{margin:0;overflow-y:scroll}#gog{padding:3px 8px 0}td{line-height:.8em}.gac_m td{line-height:17px}form{margin-bottom:20px}.h{color:#1967d2}em{font-weight:bold;font-style:normal}.lst{height:25px;width:496px}.gsfi,.lst{font:18px arial,sans-serif}.gsfs{font:17px arial,sans-serif}.ds{display:inline-box;display:inline-block;margin:3px 0 4px;margin-left:4px}input{font-family:inherit}body{background:#fff;color:#000}a{color:#681da8;text-decoration:none}a:hover,a:active{text-decoration:underline}.fl a{color:#1967d2}a:visited{color:#681da8}.sblc{padding-top:5px}.sblc a{display:block;margin:2px 0;margin-left:13px;font-size:11px}.lsbb{background:#f8f9fa;border:solid 1px;border-color:#dadce0 #70757a #70757a #dadce0;height:30px}.lsbb{display:block}#WqQANb a{display:inline-block;margin:0 12px}.lsb{background:url(/images/nav_logo229.png) 0 -261px repeat-x;color:#000;border:none;cursor:pointer;height:30px;margin:0;outline:0;font:15px arial,sans-serif;vertical-align:top}.lsb:active{background:#dadce0}.lst:focus{outline:none}</style><script nonce=\"FyKjfPlc9KvJFgPA60THeA\">(function(){window.google.erd={jsr:1,bv:1870,de:true};\n",
            "var h=this||self;var k,l=null!=(k=h.mei)?k:1,n,p=null!=(n=h.sdo)?n:!0,q=0,r,t=google.erd,v=t.jsr;google.ml=function(a,b,d,m,e){e=void 0===e?2:e;b&&(r=a&&a.message);void 0===d&&(d={});d.cad=\"ple_\"+google.ple+\".aple_\"+google.aple;if(google.dl)return google.dl(a,e,d),null;if(0>v){window.console&&console.error(a,d);if(-2===v)throw a;b=!1}else b=!a||!a.message||\"Error loading script\"===a.message||q>=l&&!m?!1:!0;if(!b)return null;q++;d=d||{};b=encodeURIComponent;var c=\"/gen_204?atyp=i&ei=\"+b(google.kEI);google.kEXPI&&(c+=\"&jexpid=\"+b(google.kEXPI));c+=\"&srcpg=\"+b(google.sn)+\"&jsr=\"+b(t.jsr)+\"&bver=\"+\n",
            "* TLSv1.2 (IN), TLS header, Supplemental data (23):\n",
            "b(t.bv);var f=a.lineNumber;void 0!==f&&(c+=\"&line=\"+f);var g=a.fileName;g&&(0<g.indexOf(\"-extension:/\")&&(e=3),c+=\"&script=\"+b(g),f&&g===window.location.href&&(f=document.documentElement.outerHTML.split(\"\\n\")[f],c+=\"&cad=\"+b(f?f.substring(0,300):\"No script found.\")));google.ple&&1===google.ple&&(e=2);c+=\"&jsel=\"+e;for(var u in d)c+=\"&\",c+=b(u),c+=\"=\",c+=b(d[u]);c=c+\"&emsg=\"+b(a.name+\": \"+a.message);c=c+\"&jsst=\"+b(a.stack||\"N/A\");12288<=c.length&&(c=c.substr(0,12288));a=c;m||google.log(0,\"\",a);return a};window.onerror=function(a,b,d,m,e){r!==a&&(a=e instanceof Error?e:Error(a),void 0===d||\"lineNumber\"in a||(a.lineNumber=d),void 0===b||\"fileName\"in a||(a.fileName=b),google.ml(a,!1,void 0,!1,\"SyntaxError\"===a.name||\"SyntaxError\"===a.message.substring(0,11)||-1!==a.message.indexOf(\"Script error\")?3:0));r=null;p&&q>=l&&(window.onerror=null)};})();</script></head><body bgcolor=\"#fff\"><script nonce=\"FyKjfPlc9KvJFgPA60THeA\">(function(){var src='/images/nav_logo229.png';var iesg=false;document.body.onload = function(){window.n && window.n();if (document.images){new Image().src=src;}\n",
            "if (!iesg){document.f&&document.f.q.focus();document.gbqf&&document.gbqf.q.focus();}\n",
            "}\n",
            "* TLSv1.2 (IN), TLS header, Supplemental data (23):\n",
            "})();</script><div id=\"mngb\"><div id=gbar><nobr><b class=gb1>Search</b> <a class=gb1 href=\"https://www.google.co.jp/imghp?hl=en&tab=wi\">Images</a> <a class=gb1 href=\"https://maps.google.com/maps?hl=en&tab=wl\">Maps</a> <a class=gb1 href=\"https://play.google.com/?hl=en&tab=w8\">Play</a> <a class=gb1 href=\"https://www.youtube.com/?tab=w1\">YouTube</a> <a class=gb1 href=\"https://news.google.com/?tab=wn\">News</a> <a class=gb1 href=\"https://mail.google.com/mail/?tab=wm\">Gmail</a> <a class=gb1 href=\"https://drive.google.com/?tab=wo\">Drive</a> <a class=gb1 style=\"text-decoration:none\" href=\"https://www.google.com/intl/en/about/products?tab=wh\"><u>More</u> &raquo;</a></nobr></div><div id=guser width=100%><nobr><span id=gbn class=gbi></span><span id=gbf class=gbf></span><span id=gbe></span><a href=\"http://www.google.com/history/optout?hl=en\" class=gb4>Web History</a> | <a  href=\"/preferences?hl=en\" class=gb4>Settings</a> | <a target=_top id=gb_70 href=\"https://accounts.google.com/ServiceLogin?hl=en&passive=true&continue=* TLSv1.2 (IN), TLS header, Supplemental data (23):\n",
            "https://www.google.co.jp/&ec=GAZAAQ\" class=gb4>Sign in</a></nobr></div><div class=gbh style=left:0></div><div class=gbh style=right:0></div></div><center><br clear=\"all\" id=\"lgpd\"><div id=\"lga\"><img alt=\"Google\" height=\"92\" src=\"/images/branding/googlelogo/1x/googlelogo_white_background_color_272x92dp.png\" style=\"padding:28px 0 14px\" width=\"272\" id=\"hplogo\"><br><br></div><form action=\"/search\" name=\"f\"><table cellpadding=\"0\" cellspacing=\"0\"><tr valign=\"top\"><td width=\"25%\">&nbsp;</td><td align=\"center\" nowrap=\"\"><input name=\"ie\" value=\"Shift_JIS\" type=\"hidden\"><input value=\"en\" name=\"hl\" type=\"hidden\"><input name=\"source\" type=\"hidden\" value=\"hp\"><input name=\"biw\" type=\"hidden\"><input name=\"bih\" type=\"hidden\"><div class=\"ds\" style=\"height:32px;margin:4px 0\"><input class=\"lst\" style=\"margin:0;padding:5px 8px 0 6px;vertical-align:top;color:#000\" autocomplete=\"off\" value=\"\" title=\"Google Search\" maxlength=\"2048\" name=\"q\" size=\"57\"></div><br style=\"line-height:0\"><span class=\"ds\"><span class=\"lsbb\"><input class=\"lsb\" value=\"Google Search\" name=\"btnG\" type=\"submit\"></span></span><span class=\"ds\"><span class=\"lsbb\"><input class=\"lsb\" id=\"tsuid_1\" value=\"I'm Feeling Lucky\" name=\"btnI\" type=\"submit\"><script nonce=\"FyKjfPlc9KvJFgPA60THeA\">(function(){var id='tsuid_1';document.getElementById(id).onclick = function(){if (this.form.q.value){this.checked = 1;if (this.form.iflsig)this.form.iflsig.disabled = false;}\n",
            "* TLSv1.2 (IN), TLS header, Supplemental data (23):\n",
            "else top.location='/doodles/';};})();</script><input value=\"AO6bgOgAAAAAZQxnJo5QTlHT6rHro2wQMVnKIluqBB90\" name=\"iflsig\" type=\"hidden\"></span></span></td><td class=\"fl sblc\" align=\"left\" nowrap=\"\" width=\"25%\"><a href=\"/advanced_search?hl=en&amp;authuser=0\">Advanced search</a></td></tr></table><input id=\"gbv\" name=\"gbv\" type=\"hidden\" value=\"1\"><script nonce=\"FyKjfPlc9KvJFgPA60THeA\">(function(){var a,b=\"1\";if(document&&document.getElementById)if(\"undefined\"!=typeof XMLHttpRequest)b=\"2\";else if(\"undefined\"!=typeof ActiveXObject){var c,d,e=[\"MSXML2.XMLHTTP.6.0\",\"MSXML2.XMLHTTP.3.0\",\"MSXML2.XMLHTTP\",\"Microsoft.XMLHTTP\"];for(c=0;d=e[c++];)try{new ActiveXObject(d),b=\"2\"}catch(h){}}a=b;if(\"2\"==a&&-1==location.search.indexOf(\"&gbv=2\")){var f=google.gbvu,g=document.getElementById(\"gbv\");g&&(g.value=a);f&&window.setTimeout(function(){location.href=f},0)};}).call(this);</script></form><div id=\"gac_scont\"></div><div style=\"font-size:83%;min-height:3.5em\"><br><div id=\"prm\"><style>.szppmdbYutt__middle-slot-promo{font-size:sm* TLSv1.2 (IN), TLS header, Supplemental data (23):\n",
            "all;margin-bottom:32px}.szppmdbYutt__middle-slot-promo a.ZIeIlb{display:inline-block;text-decoration:none}.szppmdbYutt__middle-slot-promo img{border:none;margin-right:5px;vertical-align:middle}</style><div class=\"szppmdbYutt__middle-slot-promo\" data-ved=\"0ahUKEwiGze_S-ruBAxV8lWoFHebvCK4QnIcBCAQ\"><img height=\"32\" src=\"https://www.google.com/images/hpp/icon-super-cloud-rgb-42px.png\" width=\"32\"><span style=\"color:red\">New! </span><span>See the latest announcements from </span><a class=\"NKcBbd\" href=\"https://www.google.com/url?q=https://cloud.withgoogle.com/next/%3Futm_source%3Dgoogle-homepage%26utm_medium%3Det%26utm_campaign%3DFY23-Q3-global-ENDM33-physicalevent-er-next-2023-mc%26utm_content%3Dgoogle-hpp-cloud-next-wrapup%26utm_term%3D-&amp;source=hpp&amp;id=19038263&amp;ct=3&amp;usg=AOvVaw2pEQ_VCsSNtODPodkm2Uvx&amp;sa=X&amp;ved=0ahUKEwiGze_S-ruBAxV8lWoFHebvCK4Q8IcBCAU\" rel=\"nofollow\">Google Cloud Next</a></div></div><div id=\"gws-output-pages-elements-homepage_additional_languages__als\"><style>#gws-output-pages-elements-homepage_additional_languages__als{font-size:small;margin-bottom:24px}#SIvCob{color:#3c4043;display:inline-block;line-height:28px;}#SIvCob a{padding:0 3px;}.H6sW5{display:inline-block;margin:0 2px;white-space:nowrap}.z4hgWe{display:inline-block;margin:0 2px}</style><div id=\"SIvCob\">Google offered in:  <a href=\"https://www.google.co.jp/setprefs?sig=0_Bg92MCdm5PuD8rmNS603Exb32OI%3D&amp;hl=ja&amp;source=homepage&amp;sa=X&amp;ved=0ahUKEwiGze_S-ruBAxV8lWoFHebvCK4Q2ZgBCAc\">���{��</a>  </div></div></div><span id=\"footer\"><div style=\"font-size:10pt\"><div style=\"margin:19px auto;text-align:center\" id=\"WqQANb\"><a href=\"/intl/en/ads/\">Advertising</a><a href=\"/services/\">Business Solutions</a><a href=\"/intl/en/about.html\">About Google</a><a href=\"https://www.google.co.jp/setprefdomain?prefdom=US&amp;sig=K_3DDdj4jnwdK98o9I3E2HKxW39VI%3D\" id=\"fehl\">Google.com</a></div></div><p style=\"font-size:8pt;color:#70757a\">&copy; 2023 - <a href=\"/intl/en/policies/privacy/\">Privacy</a> - <a href=\"/intl/en/policies/terms/\">Ter* TLSv1.2 (IN), TLS header, Supplemental data (23):\n",
            "ms</a></p></span></center><script nonce=\"FyKjfPlc9KvJFgPA60THeA\">(function(){window.google.cdo={height:757,width:1440};(function(){var a=window.innerWidth,b=window.innerHeight;if(!a||!b){var c=window.document,d=\"CSS1Compat\"==c.compatMode?c.documentElement:c.body;a=d.clientWidth;b=d.clientHeight}\n",
            "if(a&&b&&(a!=google.cdo.width||b!=google.cdo.height)){var e=google,f=e.log,g=\"/client_204?&atyp=i&biw=\"+a+\"&bih=\"+b+\"&ei=\"+google.kEI,h=\"\",k=[],l=void 0!==window.google&&void 0!==window.google.kOPI&&0!==window.google.kOPI?window.google.kOPI:null;null!=l&&k.push([\"opi\",l.toString()]);for(var m=0;m<k.length;m++){if(0===m||0<m)h+=\"&\";h+=k[m][0]+\"=\"+k[m][1]}f.call(e,\"\",\"\",g+h)};}).call(this);})();</script> <script nonce=\"FyKjfPlc9KvJFgPA60THeA\">(function(){google.xjs={ck:'xjs.hp.PzYy2fmZ7OM.L.X.O',cs:'ACT90oHayo5x2nVgcHnx5UK-4z345aUXfA',cssopt:false,csss:'ACT90oFFPsSLScPFDZPMeWPBOM7b31L48g',excm:[],sepcss:false};google.actx={context:'url: \\x22/xjs/_/js/k\\x3dxjs.s.en_US.kdKpVbvaB1A.O/am\\x3dCAAAAAAAAAAAAAAAAgCgBsIhAAAgQCAAA* TLSv1.2 (IN), TLS header, Supplemental data (23):\n",
            "gAAEASAgAIRBDAAQAAAgEgAAAABgBCAAOJwCwCggDgAAAAAAIR9AAAAAAAAC4AAAKAJYEAIWAQEAAAAQA4AgAeAGARYAAAAAAAAAAAAAAKWIBhckAAACAAAAAAAAAAAAAAAqWzi/d\\x3d1/ed\\x3d1/dg\\x3d2/rs\\x3dACT90oHeQqb15U_p6w7Mpzxb_RPr1jpVtQ/ee\\x3dcEt90b:ws9Tlc;qddgKe:x4FYXe,d7YSfd;yxTchf:KUM7Z;dtl0hd:lLQWFe;eHDfl:ofjVkb;qaS3gd:yiLg6e;nAFL3:NTMZac,s39S4;oGtAuc:sOXFj;iFQyKf:vfuNJf,QIhFr;SNUn3:ZwDk9d,x8cHvb;io8t5d:sgY6Zb;Oj465e:KG2eXe,KG2eXe;Erl4fe:FloWmf,FloWmf;JsbNhc:Xd8iUd;sP4Vbe:VwDzFe;kMFpHd:OTA3Ae;uY49fb:COQbmf;Pjplud:PoEs9b,EEDORb;QGR0gd:Mlhmy;a56pNe:JEfCwb;Me32dd:MEeYgc;wR5FRb:TtcOte,O1Gjze;pXdRYb:JKoKVe;dIoSBb:ZgGg9b;EmZ2Bf:zr1jrb;NSEoX:lazG7b;eBAeSb:Ck63tb;WCEKNd:I46Hvd;wV5Pjc:L8KGxe;EVNhjf:pw70Gc;sTsDMc:kHVSUb;wQlYve:aLUfP;zOsCQe:Ko78Df;KcokUb:KiuZBf;YV5bee:IvPZ6d;kbAm9d:MkHyGd;ZWEUA:afR4Cf;g8nkx:U4MzKc;lzgfYb:PI40bd;w9w86d:VvLVQd;GleZL:J1A7Od;bcPXSc:gSZLJb;JXS8fb:Qj0suc;IoGlCf:b5lhvb;VN6jIc:ddQyuf;vfVwPd:lcrkwe;ESrPQc:mNTJvc;pNsl2d:j9Yuyc;VGRfx:VFqbr;BjwMce:cXX2Wb;R9Ulx:CR7Ufe;kY7VAf:d91TEb;xBbsrc:NEW1Qc;KpRAue:Tia57b;jY0zg:Q6tNgc;l8Azde:j4* TLSv1.2 (IN), TLS header, Supplemental data (23):\n",
            "Ca9b;oSUNyd:fTfGO,fTfGO,pnvXVc;SMDL4c:fTfGO,pnvXVc;aZ61od:arTwJ;ZrFutb:W4Cdfc;K8vqCc:MyIcle;NPKaK:SdcwHb;LBgRLc:XVMNvd,SdcwHb;rQSrae:C6D5Fc;kCQyJ:ueyPK;KQzWid:mB4wNe;EABSZ:MXZt9d;qavrXe:zQzcXe,mYbt1d;TxfV6d:YORN0b;UDrY1c:eps46d;F9mqte:UoRcbe;Nyt6ic:jn2sGd;w3bZCb:ZPGaIb;G0KhTb:LIaoZ;XUezZ:sa7lqb;aAJE9c:WHW6Ef;V2HTTe:RolTY;Wfmdue:g3MJlb;imqimf:jKGL2e;BgS6mb:fidj5d;UVmjEd:EesRsb;z97YGf:oug9te;AfeaP:TkrAjf;eBZ5Nd:audvde;CxXAWb:YyRLvc;SLtqO:Kh1xYe;tosKvd:ZCqP3;VOcgDe:YquhTb;uuQkY:u2V3ud;WDGyFe:jcVOxd;trZL0b:qY8PFe;VxQ32b:k0XsBb;DULqB:RKfG5c;Np8Qkd:Dpx6qc;cFTWae:gT8qnd;gaub4:TN6bMe;DpcR3d:zL72xf;hjRo6e:F62sG;yGxLoc:FmAr0c;oUlnpc:RagDlc;R2kc8b:ALJqWb;pj82le:mg5CW;dLlj2:Qqt3Gf;qGV2uc:HHi04c;gtVSi:ekUOYd;UyG7Kb:wQd0G;LsNahb:ucGLNb;xbe2wc:uRMPBc;Q1Ow7b:x5CSu;bFZ6gf:RsDQqe;okUaUd:wItadb;G6wU6e:hezEbd;uknmt:GkPrzb;U96pRd:FsR04;PqHfGe:im2cZe;Fmv9Nc:O1Tzwc;hK67qb:QWEO5b;BMxAGc:E5bFse;R4IIIb:QWfeKf;whEZac:F4AmNb;tH4IIe:Ymry6;lkq0A:JyBE3e;daB6be:lMxGPd;LEikZe:byfTOb,lsjVmc/m\\x3dcdos,d,cEt90b,SNUn3,qddgKe,sTsDMc,dtl0hd,eHDfl\\x22\\njs_row_key: \\x22xjs.s.en_US.kdKpVbvaB1A.O\\x22\\ntrusted_resource_url {\\n  private_do_not_access_or_else_trusted_resource_url_wrapped_value: \\x22/xjs/_/js/k\\x3dxjs.s.en_US.kdKpVbvaB1A.O/am\\x3dCAAAAAAAAAAAAAAAAgCgBsIhAAAgQCAAAgAAEASAgAIRBDAAQAAAgEgAAAABgBCAAOJwCwCggDgAAAAAAIR9AAAAAAAAC4AAAKAJYEAIWAQEAAAAQA4AgAeAGARYAAAAAAAAAAAAAAKWIBhckAAACAAAAAAAAAAAAAAAqWzi/d\\x3d1/ed\\x3d1/dg\\x3d2/rs\\x3dACT90oHeQqb15U_p6w7Mpzxb_RPr1jpVtQ/ee\\x3dcEt90b:ws9Tlc;qddgKe:x4FYXe,d7YSfd;yxTchf:KUM7Z;dtl0hd:lLQWFe;eHDfl:ofjVkb;qaS3gd:yiLg6e;nAFL3:NTMZac,s39S4;oGtAuc:sOXFj;iFQyKf:vfuNJf,QIhFr;SNUn3:ZwDk9d,x8cHvb;io8t5d:sgY6Zb;Oj465e:KG2eXe,KG2eXe;Erl4fe:FloWmf,FloWmf;JsbNhc:Xd8iUd;sP4Vbe:VwDzFe;kMFpHd:OTA3Ae;uY49fb:COQbmf;Pjplud:PoEs9b,EEDORb;QGR0gd:Mlhmy;a56pNe:JEfCwb;Me32dd:MEeYgc;wR5FRb:TtcOte,O1Gjze;pXdRYb:JKoKVe;dIoSBb:ZgGg9b;EmZ2Bf:zr1jrb;NSEoX:lazG7b;eBAeSb:Ck63tb;WCEKNd:I46Hvd;wV5Pjc:L8KGxe;EVNhjf:pw70Gc;sTsDMc:kHVSUb;wQlYve:aLUfP;zOsCQe:Ko78Df;KcokUb:KiuZBf;YV5bee:IvPZ6d;kbAm9d:MkHyGd;ZWEUA:afR4Cf;g8nkx:U4MzKc;lzgfYb:PI40bd;* TLSv1.2 (IN), TLS header, Supplemental data (23):\n",
            "w9w86d:VvLVQd;GleZL:J1A7Od;bcPXSc:gSZLJb;JXS8fb:Qj0suc;IoGlCf:b5lhvb;VN6jIc:ddQyuf;vfVwPd:lcrkwe;ESrPQc:mNTJvc;pNsl2d:j9Yuyc;VGRfx:VFqbr;BjwMce:cXX2Wb;R9Ulx:CR7Ufe;kY7VAf:d91TEb;xBbsrc:NEW1Qc;KpRAue:Tia57b;jY0zg:Q6tNgc;l8Azde:j4Ca9b;oSUNyd:fTfGO,fTfGO,pnvXVc;SMDL4c:fTfGO,pnvXVc;aZ61od:arTwJ;ZrFutb:W4Cdfc;K8vqCc:MyIcle;NPKaK:SdcwHb;LBgRLc:XVMNvd,SdcwHb;rQSrae:C6D5Fc;kCQyJ:ueyPK;KQzWid:mB4wNe;EABSZ:MXZt9d;qavrXe:zQzcXe,mYbt1d;TxfV6d:YORN0b;UDrY1c:eps46d;F9mqte:UoRcbe;Nyt6ic:jn2sGd;w3bZCb:ZPGaIb;G0KhTb:LIaoZ;XUezZ:sa7lqb;aAJE9c:WHW6Ef;V2HTTe:RolTY;Wfmdue:g3MJlb;imqimf:jKGL2e;BgS6mb:fidj5d;UVmjEd:EesRsb;z97YGf:oug9te;AfeaP:TkrAjf;eBZ5Nd:audvde;CxXAWb:YyRLvc;SLtqO:Kh1xYe;tosKvd:ZCqP3;VOcgDe:YquhTb;uuQkY:u2V3ud;WDGyFe:jcVOxd;trZL0b:qY8PFe;VxQ32b:k0XsBb;DULqB:RKfG5c;Np8Qkd:Dpx6qc;cFTWae:gT8qnd;gaub4:TN6bMe;DpcR3d:zL72xf;hjRo6e:F62sG;yGxLoc:FmAr0c;oUlnpc:RagDlc;R2kc8b:ALJqWb;pj82le:mg5CW;dLlj2:Qqt3Gf;qGV2uc:HHi04c;gtVSi:ekUOYd;UyG7Kb:wQd0G;LsNahb:ucGLNb;xbe2wc:uRMPBc;Q1Ow7b:x5CSu;bFZ6gf:RsDQqe;okUaUd:wItadb;G6wU6e:he* TLSv1.2 (IN), TLS header, Supplemental data (23):\n",
            "zEbd;uknmt:GkPrzb;U96pRd:FsR04;PqHfGe:im2cZe;Fmv9Nc:O1Tzwc;hK67qb:QWEO5b;BMxAGc:E5bFse;R4IIIb:QWfeKf;whEZac:F4AmNb;tH4IIe:Ymry6;lkq0A:JyBE3e;daB6be:lMxGPd;LEikZe:byfTOb,lsjVmc/m\\x3dcdos,d,cEt90b,SNUn3,qddgKe,sTsDMc,dtl0hd,eHDfl\\x22\\n}\\ncombined_signature: \\x22ACT90oHSOcEV0ZSaSfvEk-liSR8CRvIeZw\\x22\\ncss_row_key: \\x22xjs.s.udkrMq6N_Fg.L.X.O\\x22\\ncss_signature: \\x22ACT90oGGxNUwE33l1LOEsuZMfdzflY_SkA\\x22\\nactive_mods: \\x22CAAAAAAAAAAAAAAAAgCgBsIhAAAgQCAAAgAAEASAgAIRBDAAQAAAgEgAAAABgBCAAOJwCwCggDgAAAAAAIR9AAAAAAAAC4AAAKAJYEAIWAQEAAAAQA4AgAeAGARYAAAAAAAAAAAAAAKWIBhckAAACAAAAAAAAAAAAAAAqWzi\\x22\\n',sig:'z601LGjJgZs'};})();</script>     <script nonce=\"FyKjfPlc9KvJFgPA60THeA\">(function(){var u='/xjs/_/js/k\\x3dxjs.hp.en.BvJz63qnUHE.O/am\\x3dAAAAAAAAAAAAAAAgAAAAAAAQABAgAAAAAAAAQAAAOgIAYAEALg/d\\x3d1/ed\\x3d1/rs\\x3dACT90oG4n_qeDFhl3gK3CAkxim86930kKQ/m\\x3dsb_he,d,cEt90b,SNUn3,qddgKe,sTsDMc,dtl0hd,eHDfl';var amd=0;\n",
            "var e=this||self,f=function(a){return a};var g;var h=function(a){this.g=a};h.prototype.toString=function(){return this.g+\"\"};var k={};var l=function(){var a=document;var b=\"SCRIPT\";\"application/xhtml+xml\"===a.contentType&&(b=b.toLowerCase());return a.createElement(b)};\n",
            "* TLSv1.2 (IN), TLS header, Supplemental data (23):\n",
            "function m(a,b){a.src=b instanceof h&&b.constructor===h?b.g:\"type_error:TrustedResourceUrl\";var c,d;(c=(b=null==(d=(c=(a.ownerDocument&&a.ownerDocument.defaultView||window).document).querySelector)?void 0:d.call(c,\"script[nonce]\"))?b.nonce||b.getAttribute(\"nonce\")||\"\":\"\")&&a.setAttribute(\"nonce\",c)};function n(a){a=null===a?\"null\":void 0===a?\"undefined\":a;if(void 0===g){var b=null;var c=e.trustedTypes;if(c&&c.createPolicy){try{b=c.createPolicy(\"goog#html\",{createHTML:f,createScript:f,createScriptURL:f})}catch(d){e.console&&e.console.error(d.message)}g=b}else g=b}a=(b=g)?b.createScriptURL(a):a;return new h(a,k)};void 0===google.ps&&(google.ps=[]);function p(){var a=u,b=function(){};google.lx=google.stvsc?b:function(){q(a);google.lx=b};google.bx||google.lx()}function r(a,b){b&&m(a,n(b));var c=a.onload;a.onload=function(d){c&&c(d);google.ps=google.ps.filter(function(t){return a!==t})};google.ps.push(a);document.body.appendChild(a)}google.as=r;function q(a){google.timers&&google.timers.load&&google.tick&&google.tick(\"load\",\"xjsls\");var b=l();b.onerror=function(){google.ple=1};b.onload=function(){google.ple=0};google.xjsus=void 0;r(b,a);google.aple=-1;google.psa=!0};google.xjsu=u;e._F_jsUrl=u;setTimeout(function(){0<amd?google.caft(function(){return p()},amd):p()},0);})();window._ = window._ || {};window._DumpException = _._DumpException = function(e){throw e;};window._s = window._s || {};_s._DumpException = _._DumpException;window._qs = window._qs || {};_qs._DumpException = _._DumpException;(function(){window._F_toggles=[1,0,0,8,1048577,32832,0,4096,536871482,12058629];})();function _F_installCss(c){}\n",
            "* TLSv1.2 (IN), TLS header, Supplemental data (23):\n",
            "(function(){google.jl={blt:'none',chnk:0,dw:false,dwu:true,emtn:0,end:0,ico:false,ikb:0,ine:false,injs:'none',injt:0,injth:0,injv2:false,lls:'default',pdt:0,rep:0,snet:true,strt:0,ubm:false,uwp:true};})();(function(){var pmc='{\\x22d\\x22:{},\\x22sb_he\\x22:{\\x22agen\\x22:true,\\x22cgen\\x22:true,\\x22client\\x22:\\x22heirloom-hp\\x22,\\x22dh\\x22:true,\\x22ds\\x22:\\x22\\x22,\\x22fl\\x22:true,\\x22host\\x22:\\x22google.co.jp\\x22,\\x22jsonp\\x22:true,\\x22msgs\\x22:{\\x22cibl\\x22:\\x22Clear Search\\x22,\\x22dym\\x22:\\x22Did you mean:\\x22,\\x22lcky\\x22:\\x22I\\\\u0026#39;m Feeling Lucky\\x22,\\x22lml\\x22:\\x22Learn more\\x22,\\x22psrc\\x22:\\x22This search was removed from your \\\\u003Ca href\\x3d\\\\\\x22/history\\\\\\x22\\\\u003EWeb History\\\\u003C/a\\\\u003E\\x22,\\x22psrl\\x22:\\x22Remove\\x22,\\x22sbit\\x22:\\x22Search by image\\x22,\\x22srch\\x22:\\x22Google Search\\x22},\\x22ovr\\x22:{},\\x22pq\\x22:\\x22\\x22,\\x22rfs\\x22:[],\\x22sbas\\x22:\\x220 3px 8px 0 rgba(0,0,0,0.2),0 0 0 1px rgba(0,0,0,0.08)\\x22,\\x22stok\\x22:\\x22K9h0ziXotnfd1H4YgXhHwbA-hUM\\x22}}';google.pmc=JSON.parse(pmc);})();(function(){var b=function(a){var c=0;return function(){return c<a.length?{done:!1,value:a[c++]}:{done:!0}}};\n",
            "* TLSv1.2 (IN), TLS header, Supplemental data (23):\n",
            "var e=this||self;var g,h;a:{for(var k=[\"CLOSURE_FLAGS\"],l=e,n=0;n<k.length;n++)if(l=l[k[n]],null==l){h=null;break a}h=l}var p=h&&h[610401301];g=null!=p?p:!1;var q,r=e.navigator;q=r?r.userAgentData||null:null;function t(a){return g?q?q.brands.some(function(c){return(c=c.brand)&&-1!=c.indexOf(a)}):!1:!1}function u(a){var c;a:{if(c=e.navigator)if(c=c.userAgent)break a;c=\"\"}return-1!=c.indexOf(a)};function v(){return g?!!q&&0<q.brands.length:!1}function w(){return u(\"Safari\")&&!(x()||(v()?0:u(\"Coast\"))||(v()?0:u(\"Opera\"))||(v()?0:u(\"Edge\"))||(v()?t(\"Microsoft Edge\"):u(\"Edg/\"))||(v()?t(\"Opera\"):u(\"OPR\"))||u(\"Firefox\")||u(\"FxiOS\")||u(\"Silk\")||u(\"Android\"))}function x(){return v()?t(\"Chromium\"):(u(\"Chrome\")||u(\"CriOS\"))&&!(v()?0:u(\"Edge\"))||u(\"Silk\")}function y(){return u(\"Android\")&&!(x()||u(\"Firefox\")||u(\"FxiOS\")||(v()?0:u(\"Opera\"))||u(\"Silk\"))};var z=v()?!1:u(\"Trident\")||u(\"MSIE\");y();x();w();var A=!z&&!w(),D=function(a){if(/-[a-z]/.test(\"ved\"))return null;if(A&&a.dataset){if(y()&&!(\"ved\"in a.dataset))return null;a=a.dataset.ved;return void 0===a?null:a}return a.getAttribute(\"data-\"+\"ved\".replace(/([A-Z])/g,\"-$1\").toLowerCase())};var E=[],F=null;function G(a){a=a.target;var c=performance.now(),f=[],H=f.concat,d=E;if(!(d instanceof Array)){var m=\"undefined\"!=typeof Symbol&&Symbol.iterator&&d[Symbol.iterator];if(m)d=m.call(d);else if(\"number\"==typeof d.length)d={next:b(d)};else throw Error(\"a`\"+String(d));for(var B=[];!(m=d.next()).done;)B.push(m.value);d=B}E=H.call(f,d,[c]);if(a&&a instanceof HTMLElement)if(a===F){if(c=4<=E.length)c=5>(E[E.length-1]-E[E.length-4])/1E3;if(c){c=google.getEI(a);a.hasAttribute(\"data-ved\")?f=a?D(a)||\"\":\"\":f=(f=\n",
            "* TLSv1.2 (IN), TLS header, Supplemental data (23):\n",
            "* TLSv1.2 (IN), TLS header, Supplemental data (23):\n",
            "* TLSv1.2 (OUT), TLS header, Supplemental data (23):\n",
            "* Connection #0 to host www.google.co.jp left intact\n",
            "a.closest(\"[data-ved]\"))?D(f)||\"\":\"\";f=f||\"\";if(a.hasAttribute(\"jsname\"))a=a.getAttribute(\"jsname\");else{var C;a=null==(C=a.closest(\"[jsname]\"))?void 0:C.getAttribute(\"jsname\")}google.log(\"rcm\",\"&ei=\"+c+\"&ved=\"+f+\"&jsname=\"+(a||\"\"))}}else F=a,E=[c]}window.document.addEventListener(\"DOMContentLoaded\",function(){document.body.addEventListener(\"click\",G)});}).call(this);</script></body></html>"
          ]
        }
      ]
    },
    {
      "cell_type": "code",
      "source": [
        "!http -b http://weather.livedoor.com/forecast/webservice/json/v1?city=400040"
      ],
      "metadata": {
        "colab": {
          "base_uri": "https://localhost:8080/"
        },
        "id": "hs4Fv4yrO_sW",
        "outputId": "264af1f9-24b7-404e-e8cb-43f22c8e1970"
      },
      "execution_count": null,
      "outputs": [
        {
          "output_type": "stream",
          "name": "stdout",
          "text": [
            "/bin/bash: line 1: http: command not found\n"
          ]
        }
      ]
    },
    {
      "cell_type": "markdown",
      "source": [
        "## グローバルIPの確認"
      ],
      "metadata": {
        "id": "Ah9fzR4vRv9U"
      }
    },
    {
      "cell_type": "code",
      "source": [
        "!curl ifconfig.io"
      ],
      "metadata": {
        "colab": {
          "base_uri": "https://localhost:8080/"
        },
        "id": "0-gMNKzDRt9L",
        "outputId": "ed36ecac-bc79-4230-bad9-91612b2a55e4"
      },
      "execution_count": null,
      "outputs": [
        {
          "output_type": "stream",
          "name": "stdout",
          "text": [
            "34.171.87.9\n"
          ]
        }
      ]
    },
    {
      "cell_type": "markdown",
      "source": [
        "## 接続状況の確認"
      ],
      "metadata": {
        "id": "QspA3vMeR5mQ"
      }
    },
    {
      "cell_type": "code",
      "source": [
        "!netstat -anp"
      ],
      "metadata": {
        "colab": {
          "base_uri": "https://localhost:8080/"
        },
        "id": "BVtKqdeTRuy9",
        "outputId": "338a4e91-e0e7-4e26-c73a-750a1cc88094"
      },
      "execution_count": null,
      "outputs": [
        {
          "output_type": "stream",
          "name": "stdout",
          "text": [
            "/bin/bash: line 1: netstat: command not found\n"
          ]
        }
      ]
    },
    {
      "cell_type": "code",
      "source": [
        "!ss"
      ],
      "metadata": {
        "colab": {
          "base_uri": "https://localhost:8080/"
        },
        "id": "VsrtuwAiSS6S",
        "outputId": "470c098e-2fe0-4390-dabe-7012f5caf0a8"
      },
      "execution_count": null,
      "outputs": [
        {
          "output_type": "stream",
          "name": "stdout",
          "text": [
            "Netid State Recv-Q Send-Q                                                                        Local Address:Port         Peer Address:Port Process\n",
            "u_str ESTAB 0      0                                                                                         * 18774                   * 18775       \n",
            "u_str ESTAB 0      0                                                                                         * 52165                   * 52166       \n",
            "u_str ESTAB 0      0                                                                                         * 52162                   * 53233       \n",
            "u_str ESTAB 0      0      /root/.local/share/jupyter/runtime/kernel-3518f681-e334-459b-8fb0-e75679d4d8e2-ipc-2 53124                   * 53123       \n",
            "u_str ESTAB 0      0                                                                                         * 53428                   * 53429       \n",
            "u_str ESTAB 0      0                                                                                         * 53123                   * 53124       \n",
            "u_str ESTAB 0      0                                                                                         * 18665                   * 18664       \n",
            "u_str ESTAB 0      0      /root/.local/share/jupyter/runtime/kernel-3518f681-e334-459b-8fb0-e75679d4d8e2-ipc-1 53233                   * 52162       \n",
            "u_str ESTAB 0      0                                                                                         * 52161                   * 53232       \n",
            "u_str ESTAB 0      0                                                                                         * 54492                   * 54493       \n",
            "u_str ESTAB 0      0                                                                                         * 18660                   * 18661       \n",
            "u_str ESTAB 0      0                                                                                         * 19566                   * 19567       \n",
            "u_str ESTAB 0      0                                                                                         * 52119                   * 52118       \n",
            "u_str ESTAB 0      0                                                                                         * 18662                   * 18663       \n",
            "u_str ESTAB 0      0                                                                                         * 18671                   * 18672       \n",
            "u_str ESTAB 0      0                                                                                         * 18672                   * 18671       \n",
            "u_str ESTAB 0      0                                                                                         * 54491                   * 54490       \n",
            "u_str ESTAB 0      0                                                                                         * 18663                   * 18662       \n",
            "u_str ESTAB 0      0                                                                                         * 52163                   * 52164       \n",
            "u_str ESTAB 0      0                                                                                         * 54494                   * 54495       \n",
            "u_str ESTAB 0      0                                                                                         * 52123                   * 52122       \n",
            "u_str ESTAB 0      0                                                                                         * 54495                   * 54494       \n",
            "u_str ESTAB 0      0                                                                   /tmp/debugger_quy8ax3u7 53429                   * 53428       \n",
            "u_str ESTAB 0      0                                                                                         * 52122                   * 52123       \n",
            "u_str ESTAB 0      0                                                                                         * 54493                   * 54492       \n",
            "u_str ESTAB 0      0      /root/.local/share/jupyter/runtime/kernel-3518f681-e334-459b-8fb0-e75679d4d8e2-ipc-4 52164                   * 52163       \n",
            "u_str ESTAB 0      0                                                                                         * 18674                   * 18673       \n",
            "u_str ESTAB 0      0                                                                                         * 54490                   * 54491       \n",
            "u_str ESTAB 0      0                                                                                         * 18775                   * 18774       \n",
            "u_str ESTAB 0      0                                                                                         * 18661                   * 18660       \n",
            "u_str ESTAB 0      0      /root/.local/share/jupyter/runtime/kernel-3518f681-e334-459b-8fb0-e75679d4d8e2-ipc-2 53232                   * 52161       \n",
            "u_str ESTAB 0      0                                                                                         * 52124                   * 52125       \n",
            "u_str ESTAB 0      0                                                                                         * 18664                   * 18665       \n",
            "u_str ESTAB 0      0                                                                                         * 19567                   * 19566       \n",
            "u_str ESTAB 0      0                                                                                         * 18673                   * 18674       \n",
            "u_str ESTAB 0      0                                                                                         * 18670                   * 18669       \n",
            "u_str ESTAB 0      0      /root/.local/share/jupyter/runtime/kernel-3518f681-e334-459b-8fb0-e75679d4d8e2-ipc-4 52125                   * 52124       \n",
            "u_str ESTAB 0      0      /root/.local/share/jupyter/runtime/kernel-3518f681-e334-459b-8fb0-e75679d4d8e2-ipc-3 52166                   * 52165       \n",
            "u_str ESTAB 0      0                                                                                         * 18669                   * 18670       \n",
            "u_str ESTAB 0      0                                                                                         * 52118                   * 52119       \n",
            "tcp   ESTAB 0      0                                                                               172.28.0.12:9000          172.28.0.12:36938       \n",
            "tcp   ESTAB 0      0                                                                                 127.0.0.1:42752           127.0.0.1:41081       \n",
            "tcp   ESTAB 0      0                                                                                 127.0.0.1:32991           127.0.0.1:58888       \n",
            "tcp   ESTAB 0      0                                                                               172.28.0.12:6000          172.28.0.12:51166       \n",
            "tcp   ESTAB 0      0                                                                               172.28.0.12:36938         172.28.0.12:9000        \n",
            "tcp   ESTAB 0      0                                                                               172.28.0.12:47612         172.28.0.12:9000        \n",
            "tcp   ESTAB 0      0                                                                               172.28.0.12:51166         172.28.0.12:6000        \n",
            "tcp   ESTAB 0      0                                                                                 127.0.0.1:58888           127.0.0.1:32991       \n",
            "tcp   ESTAB 0      0                                                                               172.28.0.12:6000           172.28.0.1:52594       \n",
            "tcp   ESTAB 0      0                                                                                 127.0.0.1:41081           127.0.0.1:42752       \n",
            "tcp   ESTAB 0      0                                                                               172.28.0.12:9000          172.28.0.12:47612       \n",
            "tcp   ESTAB 0      0                                                                      [::ffff:172.28.0.12]:8080  [::ffff:172.28.0.1]:35710       \n",
            "tcp   ESTAB 0      0                                                                      [::ffff:172.28.0.12]:8080  [::ffff:172.28.0.1]:51496       \n"
          ]
        }
      ]
    },
    {
      "cell_type": "code",
      "source": [
        "!ss -s"
      ],
      "metadata": {
        "colab": {
          "base_uri": "https://localhost:8080/"
        },
        "id": "1h6V3dfBSa9Z",
        "outputId": "9b605ac6-5e85-4fa5-d33a-bba26671ae3b"
      },
      "execution_count": null,
      "outputs": [
        {
          "output_type": "stream",
          "name": "stdout",
          "text": [
            "Total: 69\n",
            "TCP:   62 (estab 13, closed 41, orphaned 0, timewait 9)\n",
            "\n",
            "Transport Total     IP        IPv6\n",
            "RAW\t  0         0         0        \n",
            "UDP\t  1         1         0        \n",
            "TCP\t  21        18        3        \n",
            "INET\t  22        19        3        \n",
            "FRAG\t  0         0         0        \n",
            "\n"
          ]
        }
      ]
    },
    {
      "cell_type": "markdown",
      "source": [
        "## ルーティングテーブルの確認"
      ],
      "metadata": {
        "id": "kMTuhhI4SHZ0"
      }
    },
    {
      "cell_type": "code",
      "source": [
        "!netstat -r"
      ],
      "metadata": {
        "colab": {
          "base_uri": "https://localhost:8080/"
        },
        "id": "q-qjCifuSJWH",
        "outputId": "aefbe40c-f84e-4b6a-81a7-ecb99ca177f5"
      },
      "execution_count": null,
      "outputs": [
        {
          "output_type": "stream",
          "name": "stdout",
          "text": [
            "/bin/bash: line 1: netstat: command not found\n"
          ]
        }
      ]
    },
    {
      "cell_type": "code",
      "source": [
        "!route"
      ],
      "metadata": {
        "colab": {
          "base_uri": "https://localhost:8080/"
        },
        "id": "XRS11m4cUNy1",
        "outputId": "385e0299-a597-4789-8cd0-32140a02c0d3"
      },
      "execution_count": null,
      "outputs": [
        {
          "output_type": "stream",
          "name": "stdout",
          "text": [
            "/bin/bash: line 1: route: command not found\n"
          ]
        }
      ]
    },
    {
      "cell_type": "markdown",
      "source": [
        "## 開いているポートを確認"
      ],
      "metadata": {
        "id": "FE08vd5GThxU"
      }
    },
    {
      "cell_type": "code",
      "source": [
        "# TCP\n",
        "!sudo lsof -n -P | grep TCP"
      ],
      "metadata": {
        "colab": {
          "base_uri": "https://localhost:8080/"
        },
        "id": "JuuEsc9OSLDs",
        "outputId": "57a91efc-d97a-4b30-89c1-9bfe22ca0abb"
      },
      "execution_count": null,
      "outputs": [
        {
          "output_type": "stream",
          "name": "stdout",
          "text": [
            "node          8                root   21u     IPv6              18677      0t0     TCP *:8080 (LISTEN)\n",
            "node          8                root   27u     IPv4              52159      0t0     TCP 172.28.0.12:51166->172.28.0.12:6000 (ESTABLISHED)\n",
            "node          8                root   28u     IPv6             243194      0t0     TCP 172.28.0.12:8080->172.28.0.1:45090 (ESTABLISHED)\n",
            "node          8                root   30u     IPv6             242836      0t0     TCP 172.28.0.12:8080->172.28.0.1:45076 (ESTABLISHED)\n",
            "node          8   93 node      root   21u     IPv6              18677      0t0     TCP *:8080 (LISTEN)\n",
            "node          8   93 node      root   27u     IPv4              52159      0t0     TCP 172.28.0.12:51166->172.28.0.12:6000 (ESTABLISHED)\n",
            "node          8   93 node      root   28u     IPv6             243194      0t0     TCP 172.28.0.12:8080->172.28.0.1:45090 (ESTABLISHED)\n",
            "node          8   93 node      root   30u     IPv6             242836      0t0     TCP 172.28.0.12:8080->172.28.0.1:45076 (ESTABLISHED)\n",
            "node          8   94 node      root   21u     IPv6              18677      0t0     TCP *:8080 (LISTEN)\n",
            "node          8   94 node      root   27u     IPv4              52159      0t0     TCP 172.28.0.12:51166->172.28.0.12:6000 (ESTABLISHED)\n",
            "node          8   94 node      root   28u     IPv6             243194      0t0     TCP 172.28.0.12:8080->172.28.0.1:45090 (ESTABLISHED)\n",
            "node          8   94 node      root   30u     IPv6             242836      0t0     TCP 172.28.0.12:8080->172.28.0.1:45076 (ESTABLISHED)\n",
            "node          8   95 node      root   21u     IPv6              18677      0t0     TCP *:8080 (LISTEN)\n",
            "node          8   95 node      root   27u     IPv4              52159      0t0     TCP 172.28.0.12:51166->172.28.0.12:6000 (ESTABLISHED)\n",
            "node          8   95 node      root   28u     IPv6             243194      0t0     TCP 172.28.0.12:8080->172.28.0.1:45090 (ESTABLISHED)\n",
            "node          8   95 node      root   30u     IPv6             242836      0t0     TCP 172.28.0.12:8080->172.28.0.1:45076 (ESTABLISHED)\n",
            "node          8   96 node      root   21u     IPv6              18677      0t0     TCP *:8080 (LISTEN)\n",
            "node          8   96 node      root   27u     IPv4              52159      0t0     TCP 172.28.0.12:51166->172.28.0.12:6000 (ESTABLISHED)\n",
            "node          8   96 node      root   28u     IPv6             243194      0t0     TCP 172.28.0.12:8080->172.28.0.1:45090 (ESTABLISHED)\n",
            "node          8   96 node      root   30u     IPv6             242836      0t0     TCP 172.28.0.12:8080->172.28.0.1:45076 (ESTABLISHED)\n",
            "node          8   97 node      root   21u     IPv6              18677      0t0     TCP *:8080 (LISTEN)\n",
            "node          8   97 node      root   27u     IPv4              52159      0t0     TCP 172.28.0.12:51166->172.28.0.12:6000 (ESTABLISHED)\n",
            "node          8   97 node      root   28u     IPv6             243194      0t0     TCP 172.28.0.12:8080->172.28.0.1:45090 (ESTABLISHED)\n",
            "node          8   97 node      root   30u     IPv6             242836      0t0     TCP 172.28.0.12:8080->172.28.0.1:45076 (ESTABLISHED)\n",
            "node          8   98 node      root   21u     IPv6              18677      0t0     TCP *:8080 (LISTEN)\n",
            "node          8   98 node      root   27u     IPv4              52159      0t0     TCP 172.28.0.12:51166->172.28.0.12:6000 (ESTABLISHED)\n",
            "node          8   98 node      root   28u     IPv6             243194      0t0     TCP 172.28.0.12:8080->172.28.0.1:45090 (ESTABLISHED)\n",
            "node          8   98 node      root   30u     IPv6             242836      0t0     TCP 172.28.0.12:8080->172.28.0.1:45076 (ESTABLISHED)\n",
            "node          8  103 node      root   21u     IPv6              18677      0t0     TCP *:8080 (LISTEN)\n",
            "node          8  103 node      root   27u     IPv4              52159      0t0     TCP 172.28.0.12:51166->172.28.0.12:6000 (ESTABLISHED)\n",
            "node          8  103 node      root   28u     IPv6             243194      0t0     TCP 172.28.0.12:8080->172.28.0.1:45090 (ESTABLISHED)\n",
            "node          8  103 node      root   30u     IPv6             242836      0t0     TCP 172.28.0.12:8080->172.28.0.1:45076 (ESTABLISHED)\n",
            "node          8  104 node      root   21u     IPv6              18677      0t0     TCP *:8080 (LISTEN)\n",
            "node          8  104 node      root   27u     IPv4              52159      0t0     TCP 172.28.0.12:51166->172.28.0.12:6000 (ESTABLISHED)\n",
            "node          8  104 node      root   28u     IPv6             243194      0t0     TCP 172.28.0.12:8080->172.28.0.1:45090 (ESTABLISHED)\n",
            "node          8  104 node      root   30u     IPv6             242836      0t0     TCP 172.28.0.12:8080->172.28.0.1:45076 (ESTABLISHED)\n",
            "node          8  105 node      root   21u     IPv6              18677      0t0     TCP *:8080 (LISTEN)\n",
            "node          8  105 node      root   27u     IPv4              52159      0t0     TCP 172.28.0.12:51166->172.28.0.12:6000 (ESTABLISHED)\n",
            "node          8  105 node      root   28u     IPv6             243194      0t0     TCP 172.28.0.12:8080->172.28.0.1:45090 (ESTABLISHED)\n",
            "node          8  105 node      root   30u     IPv6             242836      0t0     TCP 172.28.0.12:8080->172.28.0.1:45076 (ESTABLISHED)\n",
            "node          8  106 node      root   21u     IPv6              18677      0t0     TCP *:8080 (LISTEN)\n",
            "node          8  106 node      root   27u     IPv4              52159      0t0     TCP 172.28.0.12:51166->172.28.0.12:6000 (ESTABLISHED)\n",
            "node          8  106 node      root   28u     IPv6             243194      0t0     TCP 172.28.0.12:8080->172.28.0.1:45090 (ESTABLISHED)\n",
            "node          8  106 node      root   30u     IPv6             242836      0t0     TCP 172.28.0.12:8080->172.28.0.1:45076 (ESTABLISHED)\n",
            "kernel_ma    22                root    3u     IPv4              18468      0t0     TCP 172.28.0.12:6000 (LISTEN)\n",
            "kernel_ma    22                root    7u     IPv4              53223      0t0     TCP 172.28.0.12:6000->172.28.0.12:51166 (ESTABLISHED)\n",
            "kernel_ma    22                root    8u     IPv4              19021      0t0     TCP 172.28.0.12:36938->172.28.0.12:9000 (ESTABLISHED)\n",
            "kernel_ma    22                root    9u     IPv4              53225      0t0     TCP 172.28.0.12:47612->172.28.0.12:9000 (ESTABLISHED)\n",
            "kernel_ma    22                root   10u     IPv4              54114      0t0     TCP 172.28.0.12:6000->172.28.0.1:52594 (ESTABLISHED)\n",
            "kernel_ma    22   32 kernel_ma root    3u     IPv4              18468      0t0     TCP 172.28.0.12:6000 (LISTEN)\n",
            "kernel_ma    22   32 kernel_ma root    7u     IPv4              53223      0t0     TCP 172.28.0.12:6000->172.28.0.12:51166 (ESTABLISHED)\n",
            "kernel_ma    22   32 kernel_ma root    8u     IPv4              19021      0t0     TCP 172.28.0.12:36938->172.28.0.12:9000 (ESTABLISHED)\n",
            "kernel_ma    22   32 kernel_ma root    9u     IPv4              53225      0t0     TCP 172.28.0.12:47612->172.28.0.12:9000 (ESTABLISHED)\n",
            "kernel_ma    22   32 kernel_ma root   10u     IPv4              54114      0t0     TCP 172.28.0.12:6000->172.28.0.1:52594 (ESTABLISHED)\n",
            "kernel_ma    22   33 kernel_ma root    3u     IPv4              18468      0t0     TCP 172.28.0.12:6000 (LISTEN)\n",
            "kernel_ma    22   33 kernel_ma root    7u     IPv4              53223      0t0     TCP 172.28.0.12:6000->172.28.0.12:51166 (ESTABLISHED)\n",
            "kernel_ma    22   33 kernel_ma root    8u     IPv4              19021      0t0     TCP 172.28.0.12:36938->172.28.0.12:9000 (ESTABLISHED)\n",
            "kernel_ma    22   33 kernel_ma root    9u     IPv4              53225      0t0     TCP 172.28.0.12:47612->172.28.0.12:9000 (ESTABLISHED)\n",
            "kernel_ma    22   33 kernel_ma root   10u     IPv4              54114      0t0     TCP 172.28.0.12:6000->172.28.0.1:52594 (ESTABLISHED)\n",
            "kernel_ma    22   34 kernel_ma root    3u     IPv4              18468      0t0     TCP 172.28.0.12:6000 (LISTEN)\n",
            "kernel_ma    22   34 kernel_ma root    7u     IPv4              53223      0t0     TCP 172.28.0.12:6000->172.28.0.12:51166 (ESTABLISHED)\n",
            "kernel_ma    22   34 kernel_ma root    8u     IPv4              19021      0t0     TCP 172.28.0.12:36938->172.28.0.12:9000 (ESTABLISHED)\n",
            "kernel_ma    22   34 kernel_ma root    9u     IPv4              53225      0t0     TCP 172.28.0.12:47612->172.28.0.12:9000 (ESTABLISHED)\n",
            "kernel_ma    22   34 kernel_ma root   10u     IPv4              54114      0t0     TCP 172.28.0.12:6000->172.28.0.1:52594 (ESTABLISHED)\n",
            "kernel_ma    22   43 kernel_ma root    3u     IPv4              18468      0t0     TCP 172.28.0.12:6000 (LISTEN)\n",
            "kernel_ma    22   43 kernel_ma root    7u     IPv4              53223      0t0     TCP 172.28.0.12:6000->172.28.0.12:51166 (ESTABLISHED)\n",
            "kernel_ma    22   43 kernel_ma root    8u     IPv4              19021      0t0     TCP 172.28.0.12:36938->172.28.0.12:9000 (ESTABLISHED)\n",
            "kernel_ma    22   43 kernel_ma root    9u     IPv4              53225      0t0     TCP 172.28.0.12:47612->172.28.0.12:9000 (ESTABLISHED)\n",
            "kernel_ma    22   43 kernel_ma root   10u     IPv4              54114      0t0     TCP 172.28.0.12:6000->172.28.0.1:52594 (ESTABLISHED)\n",
            "kernel_ma    22   44 kernel_ma root    3u     IPv4              18468      0t0     TCP 172.28.0.12:6000 (LISTEN)\n",
            "kernel_ma    22   44 kernel_ma root    7u     IPv4              53223      0t0     TCP 172.28.0.12:6000->172.28.0.12:51166 (ESTABLISHED)\n",
            "kernel_ma    22   44 kernel_ma root    8u     IPv4              19021      0t0     TCP 172.28.0.12:36938->172.28.0.12:9000 (ESTABLISHED)\n",
            "kernel_ma    22   44 kernel_ma root    9u     IPv4              53225      0t0     TCP 172.28.0.12:47612->172.28.0.12:9000 (ESTABLISHED)\n",
            "kernel_ma    22   44 kernel_ma root   10u     IPv4              54114      0t0     TCP 172.28.0.12:6000->172.28.0.1:52594 (ESTABLISHED)\n",
            "colab-fil    62                root    3u     IPv4              19565      0t0     TCP 127.0.0.1:3453 (LISTEN)\n",
            "jupyter-n   107                root    7u     IPv4              19804      0t0     TCP 172.28.0.12:9000 (LISTEN)\n",
            "jupyter-n   107                root    8u     IPv4              19877      0t0     TCP 172.28.0.12:9000->172.28.0.12:36938 (ESTABLISHED)\n",
            "jupyter-n   107                root   18u     IPv4              53226      0t0     TCP 172.28.0.12:9000->172.28.0.12:47612 (ESTABLISHED)\n",
            "jupyter-n   107  118 jupyter-n root    7u     IPv4              19804      0t0     TCP 172.28.0.12:9000 (LISTEN)\n",
            "jupyter-n   107  118 jupyter-n root    8u     IPv4              19877      0t0     TCP 172.28.0.12:9000->172.28.0.12:36938 (ESTABLISHED)\n",
            "jupyter-n   107  118 jupyter-n root   18u     IPv4              53226      0t0     TCP 172.28.0.12:9000->172.28.0.12:47612 (ESTABLISHED)\n",
            "jupyter-n   107  134 jemalloc_ root    7u     IPv4              19804      0t0     TCP 172.28.0.12:9000 (LISTEN)\n",
            "jupyter-n   107  134 jemalloc_ root    8u     IPv4              19877      0t0     TCP 172.28.0.12:9000->172.28.0.12:36938 (ESTABLISHED)\n",
            "jupyter-n   107  134 jemalloc_ root   18u     IPv4              53226      0t0     TCP 172.28.0.12:9000->172.28.0.12:47612 (ESTABLISHED)\n",
            "jupyter-n   107  135 jupyter-n root    7u     IPv4              19804      0t0     TCP 172.28.0.12:9000 (LISTEN)\n",
            "jupyter-n   107  135 jupyter-n root    8u     IPv4              19877      0t0     TCP 172.28.0.12:9000->172.28.0.12:36938 (ESTABLISHED)\n",
            "jupyter-n   107  135 jupyter-n root   18u     IPv4              53226      0t0     TCP 172.28.0.12:9000->172.28.0.12:47612 (ESTABLISHED)\n",
            "jupyter-n   107  136 jupyter-n root    7u     IPv4              19804      0t0     TCP 172.28.0.12:9000 (LISTEN)\n",
            "jupyter-n   107  136 jupyter-n root    8u     IPv4              19877      0t0     TCP 172.28.0.12:9000->172.28.0.12:36938 (ESTABLISHED)\n",
            "jupyter-n   107  136 jupyter-n root   18u     IPv4              53226      0t0     TCP 172.28.0.12:9000->172.28.0.12:47612 (ESTABLISHED)\n",
            "jupyter-n   107 1640 ZMQbg/Rea root    7u     IPv4              19804      0t0     TCP 172.28.0.12:9000 (LISTEN)\n",
            "jupyter-n   107 1640 ZMQbg/Rea root    8u     IPv4              19877      0t0     TCP 172.28.0.12:9000->172.28.0.12:36938 (ESTABLISHED)\n",
            "jupyter-n   107 1640 ZMQbg/Rea root   18u     IPv4              53226      0t0     TCP 172.28.0.12:9000->172.28.0.12:47612 (ESTABLISHED)\n",
            "jupyter-n   107 1641 ZMQbg/IO/ root    7u     IPv4              19804      0t0     TCP 172.28.0.12:9000 (LISTEN)\n",
            "jupyter-n   107 1641 ZMQbg/IO/ root    8u     IPv4              19877      0t0     TCP 172.28.0.12:9000->172.28.0.12:36938 (ESTABLISHED)\n",
            "jupyter-n   107 1641 ZMQbg/IO/ root   18u     IPv4              53226      0t0     TCP 172.28.0.12:9000->172.28.0.12:47612 (ESTABLISHED)\n",
            "dap_multi   108                root    9u     IPv4              53596      0t0     TCP 127.0.0.1:58888->127.0.0.1:32991 (ESTABLISHED)\n",
            "dap_multi   108  109 dap_multi root    9u     IPv4              53596      0t0     TCP 127.0.0.1:58888->127.0.0.1:32991 (ESTABLISHED)\n",
            "dap_multi   108  110 dap_multi root    9u     IPv4              53596      0t0     TCP 127.0.0.1:58888->127.0.0.1:32991 (ESTABLISHED)\n",
            "dap_multi   108  111 dap_multi root    9u     IPv4              53596      0t0     TCP 127.0.0.1:58888->127.0.0.1:32991 (ESTABLISHED)\n",
            "dap_multi   108  112 dap_multi root    9u     IPv4              53596      0t0     TCP 127.0.0.1:58888->127.0.0.1:32991 (ESTABLISHED)\n",
            "python3    1639                root   22u     IPv4              52121      0t0     TCP 127.0.0.1:36597 (LISTEN)\n",
            "python3    1639                root   41u     IPv4              54390      0t0     TCP 127.0.0.1:42752->127.0.0.1:41081 (ESTABLISHED)\n",
            "python3    1639 1646 python3   root   22u     IPv4              52121      0t0     TCP 127.0.0.1:36597 (LISTEN)\n",
            "python3    1639 1646 python3   root   41u     IPv4              54390      0t0     TCP 127.0.0.1:42752->127.0.0.1:41081 (ESTABLISHED)\n",
            "python3    1639 1647 ZMQbg/Rea root   22u     IPv4              52121      0t0     TCP 127.0.0.1:36597 (LISTEN)\n",
            "python3    1639 1647 ZMQbg/Rea root   41u     IPv4              54390      0t0     TCP 127.0.0.1:42752->127.0.0.1:41081 (ESTABLISHED)\n",
            "python3    1639 1648 ZMQbg/IO/ root   22u     IPv4              52121      0t0     TCP 127.0.0.1:36597 (LISTEN)\n",
            "python3    1639 1648 ZMQbg/IO/ root   41u     IPv4              54390      0t0     TCP 127.0.0.1:42752->127.0.0.1:41081 (ESTABLISHED)\n",
            "python3    1639 1649 python3   root   22u     IPv4              52121      0t0     TCP 127.0.0.1:36597 (LISTEN)\n",
            "python3    1639 1649 python3   root   41u     IPv4              54390      0t0     TCP 127.0.0.1:42752->127.0.0.1:41081 (ESTABLISHED)\n",
            "python3    1639 1650 python3   root   22u     IPv4              52121      0t0     TCP 127.0.0.1:36597 (LISTEN)\n",
            "python3    1639 1650 python3   root   41u     IPv4              54390      0t0     TCP 127.0.0.1:42752->127.0.0.1:41081 (ESTABLISHED)\n",
            "python3    1639 1651 ZMQbg/Rea root   22u     IPv4              52121      0t0     TCP 127.0.0.1:36597 (LISTEN)\n",
            "python3    1639 1651 ZMQbg/Rea root   41u     IPv4              54390      0t0     TCP 127.0.0.1:42752->127.0.0.1:41081 (ESTABLISHED)\n",
            "python3    1639 1652 ZMQbg/IO/ root   22u     IPv4              52121      0t0     TCP 127.0.0.1:36597 (LISTEN)\n",
            "python3    1639 1652 ZMQbg/IO/ root   41u     IPv4              54390      0t0     TCP 127.0.0.1:42752->127.0.0.1:41081 (ESTABLISHED)\n",
            "python3    1639 1653 python3   root   22u     IPv4              52121      0t0     TCP 127.0.0.1:36597 (LISTEN)\n",
            "python3    1639 1653 python3   root   41u     IPv4              54390      0t0     TCP 127.0.0.1:42752->127.0.0.1:41081 (ESTABLISHED)\n",
            "python3    1639 1678 python3   root   22u     IPv4              52121      0t0     TCP 127.0.0.1:36597 (LISTEN)\n",
            "python3    1639 1678 python3   root   41u     IPv4              54390      0t0     TCP 127.0.0.1:42752->127.0.0.1:41081 (ESTABLISHED)\n",
            "python3    1639 1679 python3   root   22u     IPv4              52121      0t0     TCP 127.0.0.1:36597 (LISTEN)\n",
            "python3    1639 1679 python3   root   41u     IPv4              54390      0t0     TCP 127.0.0.1:42752->127.0.0.1:41081 (ESTABLISHED)\n",
            "python3    1639 1681 python3   root   22u     IPv4              52121      0t0     TCP 127.0.0.1:36597 (LISTEN)\n",
            "python3    1639 1681 python3   root   41u     IPv4              54390      0t0     TCP 127.0.0.1:42752->127.0.0.1:41081 (ESTABLISHED)\n",
            "python3    1639 1682 python3   root   22u     IPv4              52121      0t0     TCP 127.0.0.1:36597 (LISTEN)\n",
            "python3    1639 1682 python3   root   41u     IPv4              54390      0t0     TCP 127.0.0.1:42752->127.0.0.1:41081 (ESTABLISHED)\n",
            "python3    1639 1694 python3   root   22u     IPv4              52121      0t0     TCP 127.0.0.1:36597 (LISTEN)\n",
            "python3    1639 1694 python3   root   41u     IPv4              54390      0t0     TCP 127.0.0.1:42752->127.0.0.1:41081 (ESTABLISHED)\n",
            "python3    1639 9710 python3   root   22u     IPv4              52121      0t0     TCP 127.0.0.1:36597 (LISTEN)\n",
            "python3    1639 9710 python3   root   41u     IPv4              54390      0t0     TCP 127.0.0.1:42752->127.0.0.1:41081 (ESTABLISHED)\n",
            "python3    1639 9711 ZMQbg/Rea root   22u     IPv4              52121      0t0     TCP 127.0.0.1:36597 (LISTEN)\n",
            "python3    1639 9711 ZMQbg/Rea root   41u     IPv4              54390      0t0     TCP 127.0.0.1:42752->127.0.0.1:41081 (ESTABLISHED)\n",
            "python3    1639 9712 ZMQbg/IO/ root   22u     IPv4              52121      0t0     TCP 127.0.0.1:36597 (LISTEN)\n",
            "python3    1639 9712 ZMQbg/IO/ root   41u     IPv4              54390      0t0     TCP 127.0.0.1:42752->127.0.0.1:41081 (ESTABLISHED)\n",
            "python3    1674                root    3u     IPv4              54384      0t0     TCP 127.0.0.1:32991 (LISTEN)\n",
            "python3    1674                root    4u     IPv4              54385      0t0     TCP 127.0.0.1:41081 (LISTEN)\n",
            "python3    1674                root    5u     IPv4              54386      0t0     TCP 127.0.0.1:32991->127.0.0.1:58888 (ESTABLISHED)\n",
            "python3    1674                root    6u     IPv4              54388      0t0     TCP 127.0.0.1:41081->127.0.0.1:42752 (ESTABLISHED)\n",
            "python3    1674 1675 python3   root    3u     IPv4              54384      0t0     TCP 127.0.0.1:32991 (LISTEN)\n",
            "python3    1674 1675 python3   root    4u     IPv4              54385      0t0     TCP 127.0.0.1:41081 (LISTEN)\n",
            "python3    1674 1675 python3   root    5u     IPv4              54386      0t0     TCP 127.0.0.1:32991->127.0.0.1:58888 (ESTABLISHED)\n",
            "python3    1674 1675 python3   root    6u     IPv4              54388      0t0     TCP 127.0.0.1:41081->127.0.0.1:42752 (ESTABLISHED)\n",
            "python3    1674 1676 python3   root    3u     IPv4              54384      0t0     TCP 127.0.0.1:32991 (LISTEN)\n",
            "python3    1674 1676 python3   root    4u     IPv4              54385      0t0     TCP 127.0.0.1:41081 (LISTEN)\n",
            "python3    1674 1676 python3   root    5u     IPv4              54386      0t0     TCP 127.0.0.1:32991->127.0.0.1:58888 (ESTABLISHED)\n",
            "python3    1674 1676 python3   root    6u     IPv4              54388      0t0     TCP 127.0.0.1:41081->127.0.0.1:42752 (ESTABLISHED)\n",
            "python3    1674 1677 python3   root    3u     IPv4              54384      0t0     TCP 127.0.0.1:32991 (LISTEN)\n",
            "python3    1674 1677 python3   root    4u     IPv4              54385      0t0     TCP 127.0.0.1:41081 (LISTEN)\n",
            "python3    1674 1677 python3   root    5u     IPv4              54386      0t0     TCP 127.0.0.1:32991->127.0.0.1:58888 (ESTABLISHED)\n",
            "python3    1674 1677 python3   root    6u     IPv4              54388      0t0     TCP 127.0.0.1:41081->127.0.0.1:42752 (ESTABLISHED)\n",
            "python3    1674 1680 python3   root    3u     IPv4              54384      0t0     TCP 127.0.0.1:32991 (LISTEN)\n",
            "python3    1674 1680 python3   root    4u     IPv4              54385      0t0     TCP 127.0.0.1:41081 (LISTEN)\n",
            "python3    1674 1680 python3   root    5u     IPv4              54386      0t0     TCP 127.0.0.1:32991->127.0.0.1:58888 (ESTABLISHED)\n",
            "python3    1674 1680 python3   root    6u     IPv4              54388      0t0     TCP 127.0.0.1:41081->127.0.0.1:42752 (ESTABLISHED)\n",
            "python3    1674 1726 python3   root    3u     IPv4              54384      0t0     TCP 127.0.0.1:32991 (LISTEN)\n",
            "python3    1674 1726 python3   root    4u     IPv4              54385      0t0     TCP 127.0.0.1:41081 (LISTEN)\n",
            "python3    1674 1726 python3   root    5u     IPv4              54386      0t0     TCP 127.0.0.1:32991->127.0.0.1:58888 (ESTABLISHED)\n",
            "python3    1674 1726 python3   root    6u     IPv4              54388      0t0     TCP 127.0.0.1:41081->127.0.0.1:42752 (ESTABLISHED)\n",
            "python3    1674 1727 python3   root    3u     IPv4              54384      0t0     TCP 127.0.0.1:32991 (LISTEN)\n",
            "python3    1674 1727 python3   root    4u     IPv4              54385      0t0     TCP 127.0.0.1:41081 (LISTEN)\n",
            "python3    1674 1727 python3   root    5u     IPv4              54386      0t0     TCP 127.0.0.1:32991->127.0.0.1:58888 (ESTABLISHED)\n",
            "python3    1674 1727 python3   root    6u     IPv4              54388      0t0     TCP 127.0.0.1:41081->127.0.0.1:42752 (ESTABLISHED)\n"
          ]
        }
      ]
    },
    {
      "cell_type": "code",
      "source": [
        "# UDP\n",
        "!sudo lsof -n -P | grep UDP"
      ],
      "metadata": {
        "id": "qnF_UD9TTk7b"
      },
      "execution_count": null,
      "outputs": []
    },
    {
      "cell_type": "markdown",
      "source": [
        "## ファイアウォールの確認"
      ],
      "metadata": {
        "id": "48MIUVktVCPN"
      }
    },
    {
      "cell_type": "code",
      "source": [
        "# ufw(Uncomplicated Fire Wall)のインストール\n",
        "!sudo apt install ufw"
      ],
      "metadata": {
        "colab": {
          "base_uri": "https://localhost:8080/"
        },
        "id": "aV8ZIKEkUGSG",
        "outputId": "9d9dcf7a-200c-47bf-8ecc-b2cf0c09a12c"
      },
      "execution_count": null,
      "outputs": [
        {
          "output_type": "stream",
          "name": "stdout",
          "text": [
            "Reading package lists... Done\n",
            "Building dependency tree... Done\n",
            "Reading state information... Done\n",
            "The following additional packages will be installed:\n",
            "  iptables libip6tc2 libnetfilter-conntrack3 libnfnetlink0 libnftnl11 netbase\n",
            "Suggested packages:\n",
            "  firewalld nftables rsyslog\n",
            "The following NEW packages will be installed:\n",
            "  iptables libip6tc2 libnetfilter-conntrack3 libnfnetlink0 libnftnl11 netbase\n",
            "  ufw\n",
            "0 upgraded, 7 newly installed, 0 to remove and 18 not upgraded.\n",
            "Need to get 776 kB of archives.\n",
            "After this operation, 4,308 kB of additional disk space will be used.\n",
            "Get:1 http://archive.ubuntu.com/ubuntu jammy/main amd64 netbase all 6.3 [12.9 kB]\n",
            "Get:2 http://archive.ubuntu.com/ubuntu jammy-updates/main amd64 libip6tc2 amd64 1.8.7-1ubuntu5.1 [20.2 kB]\n",
            "Get:3 http://archive.ubuntu.com/ubuntu jammy/main amd64 libnfnetlink0 amd64 1.0.1-3build3 [14.6 kB]\n",
            "Get:4 http://archive.ubuntu.com/ubuntu jammy/main amd64 libnetfilter-conntrack3 amd64 1.0.9-1 [45.3 kB]\n",
            "Get:5 http://archive.ubuntu.com/ubuntu jammy/main amd64 libnftnl11 amd64 1.2.1-1build1 [65.5 kB]\n",
            "Get:6 http://archive.ubuntu.com/ubuntu jammy-updates/main amd64 iptables amd64 1.8.7-1ubuntu5.1 [455 kB]\n",
            "Get:7 http://archive.ubuntu.com/ubuntu jammy-updates/main amd64 ufw all 0.36.1-4ubuntu0.1 [162 kB]\n",
            "Fetched 776 kB in 1s (750 kB/s)\n",
            "debconf: unable to initialize frontend: Dialog\n",
            "debconf: (No usable dialog-like program is installed, so the dialog based frontend cannot be used. at /usr/share/perl5/Debconf/FrontEnd/Dialog.pm line 78, <> line 7.)\n",
            "debconf: falling back to frontend: Readline\n",
            "debconf: unable to initialize frontend: Readline\n",
            "debconf: (This frontend requires a controlling tty.)\n",
            "debconf: falling back to frontend: Teletype\n",
            "dpkg-preconfigure: unable to re-open stdin: \n",
            "Selecting previously unselected package netbase.\n",
            "(Reading database ... 120895 files and directories currently installed.)\n",
            "Preparing to unpack .../0-netbase_6.3_all.deb ...\n",
            "Unpacking netbase (6.3) ...\n",
            "Selecting previously unselected package libip6tc2:amd64.\n",
            "Preparing to unpack .../1-libip6tc2_1.8.7-1ubuntu5.1_amd64.deb ...\n",
            "Unpacking libip6tc2:amd64 (1.8.7-1ubuntu5.1) ...\n",
            "Selecting previously unselected package libnfnetlink0:amd64.\n",
            "Preparing to unpack .../2-libnfnetlink0_1.0.1-3build3_amd64.deb ...\n",
            "Unpacking libnfnetlink0:amd64 (1.0.1-3build3) ...\n",
            "Selecting previously unselected package libnetfilter-conntrack3:amd64.\n",
            "Preparing to unpack .../3-libnetfilter-conntrack3_1.0.9-1_amd64.deb ...\n",
            "Unpacking libnetfilter-conntrack3:amd64 (1.0.9-1) ...\n",
            "Selecting previously unselected package libnftnl11:amd64.\n",
            "Preparing to unpack .../4-libnftnl11_1.2.1-1build1_amd64.deb ...\n",
            "Unpacking libnftnl11:amd64 (1.2.1-1build1) ...\n",
            "Selecting previously unselected package iptables.\n",
            "Preparing to unpack .../5-iptables_1.8.7-1ubuntu5.1_amd64.deb ...\n",
            "Unpacking iptables (1.8.7-1ubuntu5.1) ...\n",
            "Selecting previously unselected package ufw.\n",
            "Preparing to unpack .../6-ufw_0.36.1-4ubuntu0.1_all.deb ...\n",
            "Unpacking ufw (0.36.1-4ubuntu0.1) ...\n",
            "Setting up libip6tc2:amd64 (1.8.7-1ubuntu5.1) ...\n",
            "Setting up libnftnl11:amd64 (1.2.1-1build1) ...\n",
            "Setting up libnfnetlink0:amd64 (1.0.1-3build3) ...\n",
            "Setting up netbase (6.3) ...\n",
            "Setting up libnetfilter-conntrack3:amd64 (1.0.9-1) ...\n",
            "Setting up iptables (1.8.7-1ubuntu5.1) ...\n",
            "update-alternatives: using /usr/sbin/iptables-legacy to provide /usr/sbin/iptables (iptables) in auto mode\n",
            "update-alternatives: using /usr/sbin/ip6tables-legacy to provide /usr/sbin/ip6tables (ip6tables) in auto mode\n",
            "update-alternatives: using /usr/sbin/iptables-nft to provide /usr/sbin/iptables (iptables) in auto mode\n",
            "update-alternatives: using /usr/sbin/ip6tables-nft to provide /usr/sbin/ip6tables (ip6tables) in auto mode\n",
            "update-alternatives: using /usr/sbin/arptables-nft to provide /usr/sbin/arptables (arptables) in auto mode\n",
            "update-alternatives: using /usr/sbin/ebtables-nft to provide /usr/sbin/ebtables (ebtables) in auto mode\n",
            "Setting up ufw (0.36.1-4ubuntu0.1) ...\n",
            "debconf: unable to initialize frontend: Dialog\n",
            "debconf: (No usable dialog-like program is installed, so the dialog based frontend cannot be used. at /usr/share/perl5/Debconf/FrontEnd/Dialog.pm line 78.)\n",
            "debconf: falling back to frontend: Readline\n",
            "\n",
            "Creating config file /etc/ufw/before.rules with new version\n",
            "\n",
            "Creating config file /etc/ufw/before6.rules with new version\n",
            "\n",
            "Creating config file /etc/ufw/after.rules with new version\n",
            "\n",
            "Creating config file /etc/ufw/after6.rules with new version\n",
            "Created symlink /etc/systemd/system/multi-user.target.wants/ufw.service → /lib/systemd/system/ufw.service.\n",
            "Processing triggers for libc-bin (2.35-0ubuntu3.1) ...\n",
            "/sbin/ldconfig.real: /usr/local/lib/libtbbbind_2_5.so.3 is not a symbolic link\n",
            "\n",
            "/sbin/ldconfig.real: /usr/local/lib/libtbbbind_2_0.so.3 is not a symbolic link\n",
            "\n",
            "/sbin/ldconfig.real: /usr/local/lib/libtbbmalloc.so.2 is not a symbolic link\n",
            "\n",
            "/sbin/ldconfig.real: /usr/local/lib/libtbbmalloc_proxy.so.2 is not a symbolic link\n",
            "\n",
            "/sbin/ldconfig.real: /usr/local/lib/libtbbbind.so.3 is not a symbolic link\n",
            "\n",
            "/sbin/ldconfig.real: /usr/local/lib/libtbb.so.12 is not a symbolic link\n",
            "\n",
            "Processing triggers for man-db (2.10.2-1) ...\n"
          ]
        }
      ]
    },
    {
      "cell_type": "code",
      "source": [
        "!ufw --version"
      ],
      "metadata": {
        "colab": {
          "base_uri": "https://localhost:8080/"
        },
        "id": "BG_Rz-5eVF-o",
        "outputId": "375c5b4f-a895-4490-9171-8fda0036ace3"
      },
      "execution_count": null,
      "outputs": [
        {
          "output_type": "stream",
          "name": "stdout",
          "text": [
            "ufw 0.36.1\n",
            "Copyright 2008-2021 Canonical Ltd.\n"
          ]
        }
      ]
    },
    {
      "cell_type": "code",
      "source": [
        "!ufw -h"
      ],
      "metadata": {
        "colab": {
          "base_uri": "https://localhost:8080/"
        },
        "id": "O6J1C9seVOfa",
        "outputId": "5d423a04-a23a-41c4-8415-a805d9be6977"
      },
      "execution_count": null,
      "outputs": [
        {
          "output_type": "stream",
          "name": "stdout",
          "text": [
            "ERROR: Invalid syntax\n",
            "\n",
            "Usage: ufw COMMAND\n",
            "\n",
            "Commands:\n",
            " enable                          enables the firewall\n",
            " disable                         disables the firewall\n",
            " default ARG                     set default policy\n",
            " logging LEVEL                   set logging to LEVEL\n",
            " allow ARGS                      add allow rule\n",
            " deny ARGS                       add deny rule\n",
            " reject ARGS                     add reject rule\n",
            " limit ARGS                      add limit rule\n",
            " delete RULE|NUM                 delete RULE\n",
            " insert NUM RULE                 insert RULE at NUM\n",
            " prepend RULE                    prepend RULE\n",
            " route RULE                      add route RULE\n",
            " route delete RULE|NUM           delete route RULE\n",
            " route insert NUM RULE           insert route RULE at NUM\n",
            " reload                          reload firewall\n",
            " reset                           reset firewall\n",
            " status                          show firewall status\n",
            " status numbered                 show firewall status as numbered list of RULES\n",
            " status verbose                  show verbose firewall status\n",
            " show ARG                        show firewall report\n",
            " version                         display version information\n",
            "\n",
            "Application profile commands:\n",
            " app list                        list application profiles\n",
            " app info PROFILE                show information on PROFILE\n",
            " app update PROFILE              update PROFILE\n",
            " app default ARG                 set default application policy\n",
            "\n"
          ]
        }
      ]
    },
    {
      "cell_type": "code",
      "source": [
        "# ufwの稼働状況\n",
        "!sudo ufw status verbose"
      ],
      "metadata": {
        "colab": {
          "base_uri": "https://localhost:8080/"
        },
        "id": "hZDEN0mdVVcX",
        "outputId": "128a2e76-6c77-4fbf-eca9-4527564bb8a0"
      },
      "execution_count": null,
      "outputs": [
        {
          "output_type": "stream",
          "name": "stdout",
          "text": [
            "ERROR: problem running iptables: # Warning: iptables-legacy tables present, use iptables-legacy to see them\n",
            "iptables v1.8.7 (nf_tables): Could not fetch rule set generation id: Permission denied (you must be root)\n",
            "\n",
            "\n",
            "\n"
          ]
        }
      ]
    },
    {
      "cell_type": "code",
      "source": [
        "# 有効化\n",
        "!sudo ufw enable"
      ],
      "metadata": {
        "colab": {
          "base_uri": "https://localhost:8080/"
        },
        "id": "gc6-2RV6Vn6S",
        "outputId": "c729e1b7-b944-43fe-e444-535d87c77d4e"
      },
      "execution_count": null,
      "outputs": [
        {
          "output_type": "stream",
          "name": "stdout",
          "text": [
            "ERROR: problem running ufw-init\n",
            "iptables-restore v1.8.7 (nf_tables): Could not fetch rule set generation id: Permission denied (you must be root)\n",
            "\n",
            "iptables-restore v1.8.7 (nf_tables): Couldn't load match `conntrack':No such file or directory\n",
            "\n",
            "Error occurred at line: 2\n",
            "Try `iptables-restore -h' or 'iptables-restore --help' for more information.\n",
            "iptables-restore v1.8.7 (nf_tables): Could not fetch rule set generation id: Permission denied (you must be root)\n",
            "\n",
            "iptables-restore v1.8.7 (nf_tables): Could not fetch rule set generation id: Permission denied (you must be root)\n",
            "\n",
            "iptables-restore v1.8.7 (nf_tables): Couldn't load match `conntrack':No such file or directory\n",
            "\n",
            "Error occurred at line: 25\n",
            "Try `iptables-restore -h' or 'iptables-restore --help' for more information.\n",
            "iptables-restore v1.8.7 (nf_tables): unknown option \"--dport\"\n",
            "Error occurred at line: 19\n",
            "Try `iptables-restore -h' or 'iptables-restore --help' for more information.\n",
            "iptables-restore v1.8.7 (nf_tables): Could not fetch rule set generation id: Permission denied (you must be root)\n",
            "\n",
            "iptables-restore v1.8.7 (nf_tables): Couldn't load match `limit':No such file or directory\n",
            "\n",
            "Error occurred at line: 8\n",
            "Try `iptables-restore -h' or 'iptables-restore --help' for more information.\n",
            "iptables-restore v1.8.7 (nf_tables): Could not fetch rule set generation id: Permission denied (you must be root)\n",
            "\n",
            "iptables-restore v1.8.7 (nf_tables): Could not fetch rule set generation id: Permission denied (you must be root)\n",
            "\n",
            "sysctl: setting key \"net.ipv4.conf.all.accept_redirects\", ignoring: Read-only file system\n",
            "sysctl: setting key \"net.ipv4.conf.default.accept_redirects\", ignoring: Read-only file system\n",
            "sysctl: setting key \"net.ipv6.conf.all.accept_redirects\", ignoring: Read-only file system\n",
            "sysctl: setting key \"net.ipv6.conf.default.accept_redirects\", ignoring: Read-only file system\n",
            "sysctl: setting key \"net.ipv4.icmp_echo_ignore_broadcasts\", ignoring: Read-only file system\n",
            "sysctl: setting key \"net.ipv4.icmp_ignore_bogus_error_responses\", ignoring: Read-only file system\n",
            "sysctl: setting key \"net.ipv4.icmp_echo_ignore_all\", ignoring: Read-only file system\n",
            "sysctl: setting key \"net.ipv4.conf.all.log_martians\", ignoring: Read-only file system\n",
            "sysctl: setting key \"net.ipv4.conf.default.log_martians\", ignoring: Read-only file system\n",
            "\n",
            "Problem loading ipv6 (skipping)\n",
            "Problem running '/etc/ufw/before.rules'\n",
            "Problem running '/etc/ufw/after.rules'\n",
            "Problem running '/etc/ufw/user.rules'\n",
            "\n"
          ]
        }
      ]
    },
    {
      "cell_type": "code",
      "source": [
        "# 停止\n",
        "!ufw disable"
      ],
      "metadata": {
        "colab": {
          "base_uri": "https://localhost:8080/"
        },
        "id": "UTFO8og0WceV",
        "outputId": "4ff574dd-0e07-4427-f759-2ef51a91526f"
      },
      "execution_count": null,
      "outputs": [
        {
          "output_type": "stream",
          "name": "stdout",
          "text": [
            "ERROR: problem running ufw-init\n",
            "iptables v1.8.7 (nf_tables): Could not fetch rule set generation id: Permission denied (you must be root)\n",
            "\n",
            "iptables v1.8.7 (nf_tables): Could not fetch rule set generation id: Permission denied (you must be root)\n",
            "\n",
            "iptables v1.8.7 (nf_tables): Could not fetch rule set generation id: Permission denied (you must be root)\n",
            "\n",
            "\n"
          ]
        }
      ]
    },
    {
      "cell_type": "markdown",
      "source": [
        "## IPテーブルの確認"
      ],
      "metadata": {
        "id": "xSjvv7x9WDpP"
      }
    },
    {
      "cell_type": "code",
      "source": [
        "!sudo iptables -nvL |grep -w 22"
      ],
      "metadata": {
        "colab": {
          "base_uri": "https://localhost:8080/"
        },
        "id": "44K9ttn_Vw7K",
        "outputId": "8e368e1e-77b3-41dc-ee60-43d7b69fb921"
      },
      "execution_count": null,
      "outputs": [
        {
          "output_type": "stream",
          "name": "stdout",
          "text": [
            "# Warning: iptables-legacy tables present, use iptables-legacy to see them\n",
            "iptables v1.8.7 (nf_tables): Could not fetch rule set generation id: Permission denied (you must be root)\n",
            "\n"
          ]
        }
      ]
    },
    {
      "cell_type": "markdown",
      "source": [
        "## ネットワーク関連のファイル"
      ],
      "metadata": {
        "id": "L-kQAGbDWw6i"
      }
    },
    {
      "cell_type": "code",
      "source": [
        "# ポート番号とサービスの対応を確認\n",
        "!cat /etc/services"
      ],
      "metadata": {
        "colab": {
          "base_uri": "https://localhost:8080/"
        },
        "id": "R2fZ4lxjWLal",
        "outputId": "e2a9a5a3-307a-4794-a829-c3176667d51c"
      },
      "execution_count": null,
      "outputs": [
        {
          "output_type": "stream",
          "name": "stdout",
          "text": [
            "# Network services, Internet style\n",
            "#\n",
            "# Updated from https://www.iana.org/assignments/service-names-port-numbers/service-names-port-numbers.xhtml .\n",
            "#\n",
            "# New ports will be added on request if they have been officially assigned\n",
            "# by IANA and used in the real-world or are needed by a debian package.\n",
            "# If you need a huge list of used numbers please install the nmap package.\n",
            "\n",
            "tcpmux\t\t1/tcp\t\t\t\t# TCP port service multiplexer\n",
            "echo\t\t7/tcp\n",
            "echo\t\t7/udp\n",
            "discard\t\t9/tcp\t\tsink null\n",
            "discard\t\t9/udp\t\tsink null\n",
            "systat\t\t11/tcp\t\tusers\n",
            "daytime\t\t13/tcp\n",
            "daytime\t\t13/udp\n",
            "netstat\t\t15/tcp\n",
            "qotd\t\t17/tcp\t\tquote\n",
            "chargen\t\t19/tcp\t\tttytst source\n",
            "chargen\t\t19/udp\t\tttytst source\n",
            "ftp-data\t20/tcp\n",
            "ftp\t\t21/tcp\n",
            "fsp\t\t21/udp\t\tfspd\n",
            "ssh\t\t22/tcp\t\t\t\t# SSH Remote Login Protocol\n",
            "telnet\t\t23/tcp\n",
            "smtp\t\t25/tcp\t\tmail\n",
            "time\t\t37/tcp\t\ttimserver\n",
            "time\t\t37/udp\t\ttimserver\n",
            "whois\t\t43/tcp\t\tnicname\n",
            "tacacs\t\t49/tcp\t\t\t\t# Login Host Protocol (TACACS)\n",
            "tacacs\t\t49/udp\n",
            "domain\t\t53/tcp\t\t\t\t# Domain Name Server\n",
            "domain\t\t53/udp\n",
            "bootps\t\t67/udp\n",
            "bootpc\t\t68/udp\n",
            "tftp\t\t69/udp\n",
            "gopher\t\t70/tcp\t\t\t\t# Internet Gopher\n",
            "finger\t\t79/tcp\n",
            "http\t\t80/tcp\t\twww\t\t# WorldWideWeb HTTP\n",
            "kerberos\t88/tcp\t\tkerberos5 krb5 kerberos-sec\t# Kerberos v5\n",
            "kerberos\t88/udp\t\tkerberos5 krb5 kerberos-sec\t# Kerberos v5\n",
            "iso-tsap\t102/tcp\t\ttsap\t\t# part of ISODE\n",
            "acr-nema\t104/tcp\t\tdicom\t\t# Digital Imag. & Comm. 300\n",
            "pop3\t\t110/tcp\t\tpop-3\t\t# POP version 3\n",
            "sunrpc\t\t111/tcp\t\tportmapper\t# RPC 4.0 portmapper\n",
            "sunrpc\t\t111/udp\t\tportmapper\n",
            "auth\t\t113/tcp\t\tauthentication tap ident\n",
            "nntp\t\t119/tcp\t\treadnews untp\t# USENET News Transfer Protocol\n",
            "ntp\t\t123/udp\t\t\t\t# Network Time Protocol\n",
            "epmap\t\t135/tcp\t\tloc-srv\t\t# DCE endpoint resolution\n",
            "netbios-ns\t137/udp\t\t\t\t# NETBIOS Name Service\n",
            "netbios-dgm\t138/udp\t\t\t\t# NETBIOS Datagram Service\n",
            "netbios-ssn\t139/tcp\t\t\t\t# NETBIOS session service\n",
            "imap2\t\t143/tcp\t\timap\t\t# Interim Mail Access P 2 and 4\n",
            "snmp\t\t161/tcp\t\t\t\t# Simple Net Mgmt Protocol\n",
            "snmp\t\t161/udp\n",
            "snmp-trap\t162/tcp\t\tsnmptrap\t# Traps for SNMP\n",
            "snmp-trap\t162/udp\t\tsnmptrap\n",
            "cmip-man\t163/tcp\t\t\t\t# ISO mgmt over IP (CMOT)\n",
            "cmip-man\t163/udp\n",
            "cmip-agent\t164/tcp\n",
            "cmip-agent\t164/udp\n",
            "mailq\t\t174/tcp\t\t\t# Mailer transport queue for Zmailer\n",
            "xdmcp\t\t177/udp\t\t\t# X Display Manager Control Protocol\n",
            "bgp\t\t179/tcp\t\t\t\t# Border Gateway Protocol\n",
            "smux\t\t199/tcp\t\t\t\t# SNMP Unix Multiplexer\n",
            "qmtp\t\t209/tcp\t\t\t\t# Quick Mail Transfer Protocol\n",
            "z3950\t\t210/tcp\t\twais\t\t# NISO Z39.50 database\n",
            "ipx\t\t213/udp\t\t\t\t# IPX [RFC1234]\n",
            "ptp-event\t319/udp\n",
            "ptp-general\t320/udp\n",
            "pawserv\t\t345/tcp\t\t\t\t# Perf Analysis Workbench\n",
            "zserv\t\t346/tcp\t\t\t\t# Zebra server\n",
            "rpc2portmap\t369/tcp\n",
            "rpc2portmap\t369/udp\t\t\t\t# Coda portmapper\n",
            "codaauth2\t370/tcp\n",
            "codaauth2\t370/udp\t\t\t\t# Coda authentication server\n",
            "clearcase\t371/udp\t\tClearcase\n",
            "ldap\t\t389/tcp\t\t\t# Lightweight Directory Access Protocol\n",
            "ldap\t\t389/udp\n",
            "svrloc\t\t427/tcp\t\t\t\t# Server Location\n",
            "svrloc\t\t427/udp\n",
            "https\t\t443/tcp\t\t\t\t# http protocol over TLS/SSL\n",
            "https\t\t443/udp\t\t\t\t# HTTP/3\n",
            "snpp\t\t444/tcp\t\t\t\t# Simple Network Paging Protocol\n",
            "microsoft-ds\t445/tcp\t\t\t\t# Microsoft Naked CIFS\n",
            "kpasswd\t\t464/tcp\n",
            "kpasswd\t\t464/udp\n",
            "submissions\t465/tcp\t\tssmtp smtps urd # Submission over TLS [RFC8314]\n",
            "saft\t\t487/tcp\t\t\t# Simple Asynchronous File Transfer\n",
            "isakmp\t\t500/udp\t\t\t\t# IPSEC key management\n",
            "rtsp\t\t554/tcp\t\t\t# Real Time Stream Control Protocol\n",
            "rtsp\t\t554/udp\n",
            "nqs\t\t607/tcp\t\t\t\t# Network Queuing system\n",
            "asf-rmcp\t623/udp\t\t# ASF Remote Management and Control Protocol\n",
            "qmqp\t\t628/tcp\n",
            "ipp\t\t631/tcp\t\t\t\t# Internet Printing Protocol\n",
            "ldp\t\t646/tcp\t\t\t\t# Label Distribution Protocol\n",
            "ldp\t\t646/udp\n",
            "#\n",
            "# UNIX specific services\n",
            "#\n",
            "exec\t\t512/tcp\n",
            "biff\t\t512/udp\t\tcomsat\n",
            "login\t\t513/tcp\n",
            "who\t\t513/udp\t\twhod\n",
            "shell\t\t514/tcp\t\tcmd syslog\t# no passwords used\n",
            "syslog\t\t514/udp\n",
            "printer\t\t515/tcp\t\tspooler\t\t# line printer spooler\n",
            "talk\t\t517/udp\n",
            "ntalk\t\t518/udp\n",
            "route\t\t520/udp\t\trouter routed\t# RIP\n",
            "gdomap\t\t538/tcp\t\t\t\t# GNUstep distributed objects\n",
            "gdomap\t\t538/udp\n",
            "uucp\t\t540/tcp\t\tuucpd\t\t# uucp daemon\n",
            "klogin\t\t543/tcp\t\t\t\t# Kerberized `rlogin' (v5)\n",
            "kshell\t\t544/tcp\t\tkrcmd\t\t# Kerberized `rsh' (v5)\n",
            "dhcpv6-client\t546/udp\n",
            "dhcpv6-server\t547/udp\n",
            "afpovertcp\t548/tcp\t\t\t\t# AFP over TCP\n",
            "nntps\t\t563/tcp\t\tsnntp\t\t# NNTP over SSL\n",
            "submission\t587/tcp\t\t\t\t# Submission [RFC4409]\n",
            "ldaps\t\t636/tcp\t\t\t\t# LDAP over SSL\n",
            "ldaps\t\t636/udp\n",
            "tinc\t\t655/tcp\t\t\t\t# tinc control port\n",
            "tinc\t\t655/udp\n",
            "silc\t\t706/tcp\n",
            "kerberos-adm\t749/tcp\t\t\t\t# Kerberos `kadmin' (v5)\n",
            "#\n",
            "domain-s\t853/tcp\t\t\t\t# DNS over TLS [RFC7858]\n",
            "domain-s\t853/udp\t\t\t\t# DNS over DTLS [RFC8094]\n",
            "rsync\t\t873/tcp\n",
            "ftps-data\t989/tcp\t\t\t\t# FTP over SSL (data)\n",
            "ftps\t\t990/tcp\n",
            "telnets\t\t992/tcp\t\t\t\t# Telnet over SSL\n",
            "imaps\t\t993/tcp\t\t\t\t# IMAP over SSL\n",
            "pop3s\t\t995/tcp\t\t\t\t# POP-3 over SSL\n",
            "#\n",
            "# From ``Assigned Numbers'':\n",
            "#\n",
            "#> The Registered Ports are not controlled by the IANA and on most systems\n",
            "#> can be used by ordinary user processes or programs executed by ordinary\n",
            "#> users.\n",
            "#\n",
            "#> Ports are used in the TCP [45,106] to name the ends of logical\n",
            "#> connections which carry long term conversations.  For the purpose of\n",
            "#> providing services to unknown callers, a service contact port is\n",
            "#> defined.  This list specifies the port used by the server process as its\n",
            "#> contact port.  While the IANA can not control uses of these ports it\n",
            "#> does register or list uses of these ports as a convienence to the\n",
            "#> community.\n",
            "#\n",
            "socks\t\t1080/tcp\t\t\t# socks proxy server\n",
            "proofd\t\t1093/tcp\n",
            "rootd\t\t1094/tcp\n",
            "openvpn\t\t1194/tcp\n",
            "openvpn\t\t1194/udp\n",
            "rmiregistry\t1099/tcp\t\t\t# Java RMI Registry\n",
            "lotusnote\t1352/tcp\tlotusnotes\t# Lotus Note\n",
            "ms-sql-s\t1433/tcp\t\t\t# Microsoft SQL Server\n",
            "ms-sql-m\t1434/udp\t\t\t# Microsoft SQL Monitor\n",
            "ingreslock\t1524/tcp\n",
            "datametrics\t1645/tcp\told-radius\n",
            "datametrics\t1645/udp\told-radius\n",
            "sa-msg-port\t1646/tcp\told-radacct\n",
            "sa-msg-port\t1646/udp\told-radacct\n",
            "kermit\t\t1649/tcp\n",
            "groupwise\t1677/tcp\n",
            "l2f\t\t1701/udp\tl2tp\n",
            "radius\t\t1812/tcp\n",
            "radius\t\t1812/udp\n",
            "radius-acct\t1813/tcp\tradacct\t\t# Radius Accounting\n",
            "radius-acct\t1813/udp\tradacct\n",
            "cisco-sccp\t2000/tcp\t\t\t# Cisco SCCP\n",
            "nfs\t\t2049/tcp\t\t\t# Network File System\n",
            "nfs\t\t2049/udp\t\t\t# Network File System\n",
            "gnunet\t\t2086/tcp\n",
            "gnunet\t\t2086/udp\n",
            "rtcm-sc104\t2101/tcp\t\t\t# RTCM SC-104 IANA 1/29/99\n",
            "rtcm-sc104\t2101/udp\n",
            "gsigatekeeper\t2119/tcp\n",
            "gris\t\t2135/tcp\t\t# Grid Resource Information Server\n",
            "cvspserver\t2401/tcp\t\t\t# CVS client/server operations\n",
            "venus\t\t2430/tcp\t\t\t# codacon port\n",
            "venus\t\t2430/udp\t\t\t# Venus callback/wbc interface\n",
            "venus-se\t2431/tcp\t\t\t# tcp side effects\n",
            "venus-se\t2431/udp\t\t\t# udp sftp side effect\n",
            "codasrv\t\t2432/tcp\t\t\t# not used\n",
            "codasrv\t\t2432/udp\t\t\t# server port\n",
            "codasrv-se\t2433/tcp\t\t\t# tcp side effects\n",
            "codasrv-se\t2433/udp\t\t\t# udp sftp side effect\n",
            "mon\t\t2583/tcp\t\t\t# MON traps\n",
            "mon\t\t2583/udp\n",
            "dict\t\t2628/tcp\t\t\t# Dictionary server\n",
            "f5-globalsite\t2792/tcp\n",
            "gsiftp\t\t2811/tcp\n",
            "gpsd\t\t2947/tcp\n",
            "gds-db\t\t3050/tcp\tgds_db\t\t# InterBase server\n",
            "icpv2\t\t3130/udp\ticp\t\t# Internet Cache Protocol\n",
            "isns\t\t3205/tcp\t\t\t# iSNS Server Port\n",
            "isns\t\t3205/udp\t\t\t# iSNS Server Port\n",
            "iscsi-target\t3260/tcp\n",
            "mysql\t\t3306/tcp\n",
            "ms-wbt-server\t3389/tcp\n",
            "nut\t\t3493/tcp\t\t\t# Network UPS Tools\n",
            "nut\t\t3493/udp\n",
            "distcc\t\t3632/tcp\t\t\t# distributed compiler\n",
            "daap\t\t3689/tcp\t\t\t# Digital Audio Access Protocol\n",
            "svn\t\t3690/tcp\tsubversion\t# Subversion protocol\n",
            "suucp\t\t4031/tcp\t\t\t# UUCP over SSL\n",
            "sysrqd\t\t4094/tcp\t\t\t# sysrq daemon\n",
            "sieve\t\t4190/tcp\t\t\t# ManageSieve Protocol\n",
            "epmd\t\t4369/tcp\t\t\t# Erlang Port Mapper Daemon\n",
            "remctl\t\t4373/tcp\t\t# Remote Authenticated Command Service\n",
            "f5-iquery\t4353/tcp\t\t\t# F5 iQuery\n",
            "ntske\t\t4460/tcp\t# Network Time Security Key Establishment\n",
            "ipsec-nat-t\t4500/udp\t\t\t# IPsec NAT-Traversal [RFC3947]\n",
            "iax\t\t4569/udp\t\t\t# Inter-Asterisk eXchange\n",
            "mtn\t\t4691/tcp\t\t\t# monotone Netsync Protocol\n",
            "radmin-port\t4899/tcp\t\t\t# RAdmin Port\n",
            "sip\t\t5060/tcp\t\t\t# Session Initiation Protocol\n",
            "sip\t\t5060/udp\n",
            "sip-tls\t\t5061/tcp\n",
            "sip-tls\t\t5061/udp\n",
            "xmpp-client\t5222/tcp\tjabber-client\t# Jabber Client Connection\n",
            "xmpp-server\t5269/tcp\tjabber-server\t# Jabber Server Connection\n",
            "cfengine\t5308/tcp\n",
            "mdns\t\t5353/udp\t\t\t# Multicast DNS\n",
            "postgresql\t5432/tcp\tpostgres\t# PostgreSQL Database\n",
            "freeciv\t\t5556/tcp\trptp\t\t# Freeciv gameplay\n",
            "amqps\t\t5671/tcp\t\t\t# AMQP protocol over TLS/SSL\n",
            "amqp\t\t5672/tcp\n",
            "amqp\t\t5672/sctp\n",
            "x11\t\t6000/tcp\tx11-0\t\t# X Window System\n",
            "x11-1\t\t6001/tcp\n",
            "x11-2\t\t6002/tcp\n",
            "x11-3\t\t6003/tcp\n",
            "x11-4\t\t6004/tcp\n",
            "x11-5\t\t6005/tcp\n",
            "x11-6\t\t6006/tcp\n",
            "x11-7\t\t6007/tcp\n",
            "gnutella-svc\t6346/tcp\t\t\t# gnutella\n",
            "gnutella-svc\t6346/udp\n",
            "gnutella-rtr\t6347/tcp\t\t\t# gnutella\n",
            "gnutella-rtr\t6347/udp\n",
            "redis\t\t6379/tcp\n",
            "sge-qmaster\t6444/tcp\tsge_qmaster\t# Grid Engine Qmaster Service\n",
            "sge-execd\t6445/tcp\tsge_execd\t# Grid Engine Execution Service\n",
            "mysql-proxy\t6446/tcp\t\t\t# MySQL Proxy\n",
            "babel\t\t6696/udp\t\t\t# Babel Routing Protocol\n",
            "ircs-u\t\t6697/tcp\t\t# Internet Relay Chat via TLS/SSL\n",
            "bbs\t\t7000/tcp\n",
            "afs3-fileserver 7000/udp\n",
            "afs3-callback\t7001/udp\t\t\t# callbacks to cache managers\n",
            "afs3-prserver\t7002/udp\t\t\t# users & groups database\n",
            "afs3-vlserver\t7003/udp\t\t\t# volume location database\n",
            "afs3-kaserver\t7004/udp\t\t\t# AFS/Kerberos authentication\n",
            "afs3-volser\t7005/udp\t\t\t# volume managment server\n",
            "afs3-bos\t7007/udp\t\t\t# basic overseer process\n",
            "afs3-update\t7008/udp\t\t\t# server-to-server updater\n",
            "afs3-rmtsys\t7009/udp\t\t\t# remote cache manager service\n",
            "font-service\t7100/tcp\txfs\t\t# X Font Service\n",
            "http-alt\t8080/tcp\twebcache\t# WWW caching service\n",
            "puppet\t\t8140/tcp\t\t\t# The Puppet master service\n",
            "bacula-dir\t9101/tcp\t\t\t# Bacula Director\n",
            "bacula-fd\t9102/tcp\t\t\t# Bacula File Daemon\n",
            "bacula-sd\t9103/tcp\t\t\t# Bacula Storage Daemon\n",
            "xmms2\t\t9667/tcp\t# Cross-platform Music Multiplexing System\n",
            "nbd\t\t10809/tcp\t\t\t# Linux Network Block Device\n",
            "zabbix-agent\t10050/tcp\t\t\t# Zabbix Agent\n",
            "zabbix-trapper\t10051/tcp\t\t\t# Zabbix Trapper\n",
            "amanda\t\t10080/tcp\t\t\t# amanda backup services\n",
            "dicom\t\t11112/tcp\n",
            "hkp\t\t11371/tcp\t\t\t# OpenPGP HTTP Keyserver\n",
            "db-lsp\t\t17500/tcp\t\t\t# Dropbox LanSync Protocol\n",
            "dcap\t\t22125/tcp\t\t\t# dCache Access Protocol\n",
            "gsidcap\t\t22128/tcp\t\t\t# GSI dCache Access Protocol\n",
            "wnn6\t\t22273/tcp\t\t\t# wnn6\n",
            "\n",
            "#\n",
            "# Datagram Delivery Protocol services\n",
            "#\n",
            "rtmp\t\t1/ddp\t\t\t# Routing Table Maintenance Protocol\n",
            "nbp\t\t2/ddp\t\t\t# Name Binding Protocol\n",
            "echo\t\t4/ddp\t\t\t# AppleTalk Echo Protocol\n",
            "zip\t\t6/ddp\t\t\t# Zone Information Protocol\n",
            "\n",
            "#=========================================================================\n",
            "# The remaining port numbers are not as allocated by IANA.\n",
            "#=========================================================================\n",
            "\n",
            "# Kerberos (Project Athena/MIT) services\n",
            "kerberos4\t750/udp\t\tkerberos-iv kdc\t# Kerberos (server)\n",
            "kerberos4\t750/tcp\t\tkerberos-iv kdc\n",
            "kerberos-master\t751/udp\t\tkerberos_master\t# Kerberos authentication\n",
            "kerberos-master\t751/tcp\n",
            "passwd-server\t752/udp\t\tpasswd_server\t# Kerberos passwd server\n",
            "krb-prop\t754/tcp\t\tkrb_prop krb5_prop hprop # Kerberos slave propagation\n",
            "zephyr-srv\t2102/udp\t\t\t# Zephyr server\n",
            "zephyr-clt\t2103/udp\t\t\t# Zephyr serv-hm connection\n",
            "zephyr-hm\t2104/udp\t\t\t# Zephyr hostmanager\n",
            "iprop\t\t2121/tcp\t\t\t# incremental propagation\n",
            "supfilesrv\t871/tcp\t\t\t# Software Upgrade Protocol server\n",
            "supfiledbg\t1127/tcp\t\t# Software Upgrade Protocol debugging\n",
            "\n",
            "#\n",
            "# Services added for the Debian GNU/Linux distribution\n",
            "#\n",
            "poppassd\t106/tcp\t\t\t\t# Eudora\n",
            "moira-db\t775/tcp\t\tmoira_db\t# Moira database\n",
            "moira-update\t777/tcp\t\tmoira_update\t# Moira update protocol\n",
            "moira-ureg\t779/udp\t\tmoira_ureg\t# Moira user registration\n",
            "spamd\t\t783/tcp\t\t\t\t# spamassassin daemon\n",
            "skkserv\t\t1178/tcp\t\t\t# skk jisho server port\n",
            "predict\t\t1210/udp\t\t\t# predict -- satellite tracking\n",
            "rmtcfg\t\t1236/tcp\t\t\t# Gracilis Packeten remote config server\n",
            "xtel\t\t1313/tcp\t\t\t# french minitel\n",
            "xtelw\t\t1314/tcp\t\t\t# french minitel\n",
            "zebrasrv\t2600/tcp\t\t\t# zebra service\n",
            "zebra\t\t2601/tcp\t\t\t# zebra vty\n",
            "ripd\t\t2602/tcp\t\t\t# ripd vty (zebra)\n",
            "ripngd\t\t2603/tcp\t\t\t# ripngd vty (zebra)\n",
            "ospfd\t\t2604/tcp\t\t\t# ospfd vty (zebra)\n",
            "bgpd\t\t2605/tcp\t\t\t# bgpd vty (zebra)\n",
            "ospf6d\t\t2606/tcp\t\t\t# ospf6d vty (zebra)\n",
            "ospfapi\t\t2607/tcp\t\t\t# OSPF-API\n",
            "isisd\t\t2608/tcp\t\t\t# ISISd vty (zebra)\n",
            "fax\t\t4557/tcp\t\t\t# FAX transmission service (old)\n",
            "hylafax\t\t4559/tcp\t\t\t# HylaFAX client-server protocol (new)\n",
            "munin\t\t4949/tcp\tlrrd\t\t# Munin\n",
            "rplay\t\t5555/udp\t\t\t# RPlay audio service\n",
            "nrpe\t\t5666/tcp\t\t\t# Nagios Remote Plugin Executor\n",
            "nsca\t\t5667/tcp\t\t\t# Nagios Agent - NSCA\n",
            "canna\t\t5680/tcp\t\t\t# cannaserver\n",
            "syslog-tls\t6514/tcp\t\t\t# Syslog over TLS [RFC5425]\n",
            "sane-port\t6566/tcp\tsane saned\t# SANE network scanner daemon\n",
            "ircd\t\t6667/tcp\t\t\t# Internet Relay Chat\n",
            "zope-ftp\t8021/tcp\t\t\t# zope management by ftp\n",
            "tproxy\t\t8081/tcp\t\t\t# Transparent Proxy\n",
            "omniorb\t\t8088/tcp\t\t\t# OmniORB\n",
            "clc-build-daemon 8990/tcp\t\t\t# Common lisp build daemon\n",
            "xinetd\t\t9098/tcp\n",
            "git\t\t9418/tcp\t\t\t# Git Version Control System\n",
            "zope\t\t9673/tcp\t\t\t# zope server\n",
            "webmin\t\t10000/tcp\n",
            "kamanda\t\t10081/tcp\t\t\t# amanda backup services (Kerberos)\n",
            "amandaidx\t10082/tcp\t\t\t# amanda backup services\n",
            "amidxtape\t10083/tcp\t\t\t# amanda backup services\n",
            "sgi-cmsd\t17001/udp\t\t# Cluster membership services daemon\n",
            "sgi-crsd\t17002/udp\n",
            "sgi-gcd\t\t17003/udp\t\t\t# SGI Group membership daemon\n",
            "sgi-cad\t\t17004/tcp\t\t\t# Cluster Admin daemon\n",
            "binkp\t\t24554/tcp\t\t\t# binkp fidonet protocol\n",
            "asp\t\t27374/tcp\t\t\t# Address Search Protocol\n",
            "asp\t\t27374/udp\n",
            "csync2\t\t30865/tcp\t\t\t# cluster synchronization tool\n",
            "dircproxy\t57000/tcp\t\t\t# Detachable IRC Proxy\n",
            "tfido\t\t60177/tcp\t\t\t# fidonet EMSI over telnet\n",
            "fido\t\t60179/tcp\t\t\t# fidonet EMSI over TCP\n",
            "\n",
            "# Local services\n"
          ]
        }
      ]
    },
    {
      "cell_type": "code",
      "source": [
        "# ネットワーク名とネットワークアドレスの対応を確認\n",
        "!cat /etc/networks"
      ],
      "metadata": {
        "colab": {
          "base_uri": "https://localhost:8080/"
        },
        "id": "mlAoHV4oW3X1",
        "outputId": "96dc4022-a26c-4fd3-a442-b616ab9abe66"
      },
      "execution_count": null,
      "outputs": [
        {
          "output_type": "stream",
          "name": "stdout",
          "text": [
            "# symbolic names for networks, see networks(5) for more information\n",
            "link-local 169.254.0.0\n"
          ]
        }
      ]
    },
    {
      "cell_type": "code",
      "source": [
        "# ホスト名を確認\n",
        "!cat /etc/hostname"
      ],
      "metadata": {
        "colab": {
          "base_uri": "https://localhost:8080/"
        },
        "id": "S4JvjoHkXH1w",
        "outputId": "3d6289aa-789b-4452-d11d-f8afab106f04"
      },
      "execution_count": null,
      "outputs": [
        {
          "output_type": "stream",
          "name": "stdout",
          "text": [
            "42080de056aa\n"
          ]
        }
      ]
    },
    {
      "cell_type": "code",
      "source": [
        "# ホスト名とIPアドレスとの対応を記述し名前解決\n",
        "!cat /etc/hosts"
      ],
      "metadata": {
        "colab": {
          "base_uri": "https://localhost:8080/"
        },
        "id": "95yXuOWZXQEW",
        "outputId": "c233a20c-9669-4499-f076-5a6fa1611e62"
      },
      "execution_count": null,
      "outputs": [
        {
          "output_type": "stream",
          "name": "stdout",
          "text": [
            "127.0.0.1\tlocalhost\n",
            "::1\tlocalhost ip6-localhost ip6-loopback\n",
            "fe00::0\tip6-localnet\n",
            "ff00::0\tip6-mcastprefix\n",
            "ff02::1\tip6-allnodes\n",
            "ff02::2\tip6-allrouters\n",
            "172.28.0.12\t42080de056aa\n"
          ]
        }
      ]
    },
    {
      "cell_type": "code",
      "source": [
        "# 名前解決の設定を確認\n",
        "!cat /etc/nsswitch.conf"
      ],
      "metadata": {
        "colab": {
          "base_uri": "https://localhost:8080/"
        },
        "id": "bjMNtXN5XY3v",
        "outputId": "ac007c8c-5575-474d-dba6-a01c5231b7e8"
      },
      "execution_count": null,
      "outputs": [
        {
          "output_type": "stream",
          "name": "stdout",
          "text": [
            "# /etc/nsswitch.conf\n",
            "#\n",
            "# Example configuration of GNU Name Service Switch functionality.\n",
            "# If you have the `glibc-doc-reference' and `info' packages installed, try:\n",
            "# `info libc \"Name Service Switch\"' for information about this file.\n",
            "\n",
            "passwd:         files\n",
            "group:          files\n",
            "shadow:         files\n",
            "gshadow:        files\n",
            "\n",
            "hosts:          files dns\n",
            "networks:       files\n",
            "\n",
            "protocols:      db files\n",
            "services:       db files\n",
            "ethers:         db files\n",
            "rpc:            db files\n",
            "\n",
            "netgroup:       nis\n"
          ]
        }
      ]
    },
    {
      "cell_type": "code",
      "source": [
        "# DNSサーバやドメインの確認\n",
        "!cat /etc/resolv.conf"
      ],
      "metadata": {
        "colab": {
          "base_uri": "https://localhost:8080/"
        },
        "id": "H_WLPqdGX8C6",
        "outputId": "90664b70-3b05-42d0-d9aa-6e599070e6f3"
      },
      "execution_count": null,
      "outputs": [
        {
          "output_type": "stream",
          "name": "stdout",
          "text": [
            "search europe-west4-b.c.codatalab-user-runtimes.internal c.codatalab-user-runtimes.internal google.internal\n",
            "nameserver 127.0.0.11\n",
            "options ndots:0\n"
          ]
        }
      ]
    },
    {
      "cell_type": "code",
      "source": [
        "# 「ネットワーク機能の使用/不使用」「ホスト名」「デフォルトゲートアドレス」などの設定を確認\n",
        "!cat /etc/sysconfig/network"
      ],
      "metadata": {
        "colab": {
          "base_uri": "https://localhost:8080/"
        },
        "id": "tUwMLm3gYHx4",
        "outputId": "1295d73b-c24b-45e4-e0db-2b5f805a306b"
      },
      "execution_count": null,
      "outputs": [
        {
          "output_type": "stream",
          "name": "stdout",
          "text": [
            "cat: /etc/sysconfig/network: No such file or directory\n"
          ]
        }
      ]
    },
    {
      "cell_type": "code",
      "source": [],
      "metadata": {
        "id": "tSpZJNqQYUAu"
      },
      "execution_count": null,
      "outputs": []
    }
  ]
}